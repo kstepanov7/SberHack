{
  "nbformat": 4,
  "nbformat_minor": 0,
  "metadata": {
    "colab": {
      "name": "i2i_model.ipynb",
      "provenance": [],
      "collapsed_sections": [],
      "machine_shape": "hm"
    },
    "kernelspec": {
      "name": "python3",
      "display_name": "Python 3"
    },
    "accelerator": "GPU",
    "widgets": {
      "application/vnd.jupyter.widget-state+json": {
        "ec16dfdd700847e4b22973c9decab93d": {
          "model_module": "@jupyter-widgets/controls",
          "model_name": "HBoxModel",
          "state": {
            "_view_name": "HBoxView",
            "_dom_classes": [],
            "_model_name": "HBoxModel",
            "_view_module": "@jupyter-widgets/controls",
            "_model_module_version": "1.5.0",
            "_view_count": null,
            "_view_module_version": "1.5.0",
            "box_style": "",
            "layout": "IPY_MODEL_bcf87f3b8e314c7cb4108155c8fb4d36",
            "_model_module": "@jupyter-widgets/controls",
            "children": [
              "IPY_MODEL_3b29dbb6fa094bbc881d77107ad1f2ca",
              "IPY_MODEL_540a0e5996df4e6c8e357875a06487d2"
            ]
          }
        },
        "bcf87f3b8e314c7cb4108155c8fb4d36": {
          "model_module": "@jupyter-widgets/base",
          "model_name": "LayoutModel",
          "state": {
            "_view_name": "LayoutView",
            "grid_template_rows": null,
            "right": null,
            "justify_content": null,
            "_view_module": "@jupyter-widgets/base",
            "overflow": null,
            "_model_module_version": "1.2.0",
            "_view_count": null,
            "flex_flow": null,
            "width": null,
            "min_width": null,
            "border": null,
            "align_items": null,
            "bottom": null,
            "_model_module": "@jupyter-widgets/base",
            "top": null,
            "grid_column": null,
            "overflow_y": null,
            "overflow_x": null,
            "grid_auto_flow": null,
            "grid_area": null,
            "grid_template_columns": null,
            "flex": null,
            "_model_name": "LayoutModel",
            "justify_items": null,
            "grid_row": null,
            "max_height": null,
            "align_content": null,
            "visibility": null,
            "align_self": null,
            "height": null,
            "min_height": null,
            "padding": null,
            "grid_auto_rows": null,
            "grid_gap": null,
            "max_width": null,
            "order": null,
            "_view_module_version": "1.2.0",
            "grid_template_areas": null,
            "object_position": null,
            "object_fit": null,
            "grid_auto_columns": null,
            "margin": null,
            "display": null,
            "left": null
          }
        },
        "3b29dbb6fa094bbc881d77107ad1f2ca": {
          "model_module": "@jupyter-widgets/controls",
          "model_name": "FloatProgressModel",
          "state": {
            "_view_name": "ProgressView",
            "style": "IPY_MODEL_3d2bcbb0c8b04794aefc77569e768ee3",
            "_dom_classes": [],
            "description": "100%",
            "_model_name": "FloatProgressModel",
            "bar_style": "success",
            "max": 95002,
            "_view_module": "@jupyter-widgets/controls",
            "_model_module_version": "1.5.0",
            "value": 95002,
            "_view_count": null,
            "_view_module_version": "1.5.0",
            "orientation": "horizontal",
            "min": 0,
            "description_tooltip": null,
            "_model_module": "@jupyter-widgets/controls",
            "layout": "IPY_MODEL_a2efc30f052847ef9be7fd8459c2d4b5"
          }
        },
        "540a0e5996df4e6c8e357875a06487d2": {
          "model_module": "@jupyter-widgets/controls",
          "model_name": "HTMLModel",
          "state": {
            "_view_name": "HTMLView",
            "style": "IPY_MODEL_ab73703cd5924340bbdeb0ac2980a89a",
            "_dom_classes": [],
            "description": "",
            "_model_name": "HTMLModel",
            "placeholder": "​",
            "_view_module": "@jupyter-widgets/controls",
            "_model_module_version": "1.5.0",
            "value": " 95002/95002 [00:44&lt;00:00, 2113.20it/s]",
            "_view_count": null,
            "_view_module_version": "1.5.0",
            "description_tooltip": null,
            "_model_module": "@jupyter-widgets/controls",
            "layout": "IPY_MODEL_8637b47823a44be293015644bde8bf51"
          }
        },
        "3d2bcbb0c8b04794aefc77569e768ee3": {
          "model_module": "@jupyter-widgets/controls",
          "model_name": "ProgressStyleModel",
          "state": {
            "_view_name": "StyleView",
            "_model_name": "ProgressStyleModel",
            "description_width": "initial",
            "_view_module": "@jupyter-widgets/base",
            "_model_module_version": "1.5.0",
            "_view_count": null,
            "_view_module_version": "1.2.0",
            "bar_color": null,
            "_model_module": "@jupyter-widgets/controls"
          }
        },
        "a2efc30f052847ef9be7fd8459c2d4b5": {
          "model_module": "@jupyter-widgets/base",
          "model_name": "LayoutModel",
          "state": {
            "_view_name": "LayoutView",
            "grid_template_rows": null,
            "right": null,
            "justify_content": null,
            "_view_module": "@jupyter-widgets/base",
            "overflow": null,
            "_model_module_version": "1.2.0",
            "_view_count": null,
            "flex_flow": null,
            "width": null,
            "min_width": null,
            "border": null,
            "align_items": null,
            "bottom": null,
            "_model_module": "@jupyter-widgets/base",
            "top": null,
            "grid_column": null,
            "overflow_y": null,
            "overflow_x": null,
            "grid_auto_flow": null,
            "grid_area": null,
            "grid_template_columns": null,
            "flex": null,
            "_model_name": "LayoutModel",
            "justify_items": null,
            "grid_row": null,
            "max_height": null,
            "align_content": null,
            "visibility": null,
            "align_self": null,
            "height": null,
            "min_height": null,
            "padding": null,
            "grid_auto_rows": null,
            "grid_gap": null,
            "max_width": null,
            "order": null,
            "_view_module_version": "1.2.0",
            "grid_template_areas": null,
            "object_position": null,
            "object_fit": null,
            "grid_auto_columns": null,
            "margin": null,
            "display": null,
            "left": null
          }
        },
        "ab73703cd5924340bbdeb0ac2980a89a": {
          "model_module": "@jupyter-widgets/controls",
          "model_name": "DescriptionStyleModel",
          "state": {
            "_view_name": "StyleView",
            "_model_name": "DescriptionStyleModel",
            "description_width": "",
            "_view_module": "@jupyter-widgets/base",
            "_model_module_version": "1.5.0",
            "_view_count": null,
            "_view_module_version": "1.2.0",
            "_model_module": "@jupyter-widgets/controls"
          }
        },
        "8637b47823a44be293015644bde8bf51": {
          "model_module": "@jupyter-widgets/base",
          "model_name": "LayoutModel",
          "state": {
            "_view_name": "LayoutView",
            "grid_template_rows": null,
            "right": null,
            "justify_content": null,
            "_view_module": "@jupyter-widgets/base",
            "overflow": null,
            "_model_module_version": "1.2.0",
            "_view_count": null,
            "flex_flow": null,
            "width": null,
            "min_width": null,
            "border": null,
            "align_items": null,
            "bottom": null,
            "_model_module": "@jupyter-widgets/base",
            "top": null,
            "grid_column": null,
            "overflow_y": null,
            "overflow_x": null,
            "grid_auto_flow": null,
            "grid_area": null,
            "grid_template_columns": null,
            "flex": null,
            "_model_name": "LayoutModel",
            "justify_items": null,
            "grid_row": null,
            "max_height": null,
            "align_content": null,
            "visibility": null,
            "align_self": null,
            "height": null,
            "min_height": null,
            "padding": null,
            "grid_auto_rows": null,
            "grid_gap": null,
            "max_width": null,
            "order": null,
            "_view_module_version": "1.2.0",
            "grid_template_areas": null,
            "object_position": null,
            "object_fit": null,
            "grid_auto_columns": null,
            "margin": null,
            "display": null,
            "left": null
          }
        }
      }
    }
  },
  "cells": [
    {
      "cell_type": "code",
      "metadata": {
        "id": "VWuKCtSBbx7v"
      },
      "source": [
        "import pandas as pd\n",
        "import numpy as np\n",
        "import matplotlib.pyplot as plt\n",
        "\n",
        "import pickle"
      ],
      "execution_count": null,
      "outputs": []
    },
    {
      "cell_type": "code",
      "metadata": {
        "id": "fPkbEGtpcCXF"
      },
      "source": [
        "if 'google.colab' in str(get_ipython()):\n",
        "    colab_session = True\n",
        "else:\n",
        "    colab_session = False"
      ],
      "execution_count": null,
      "outputs": []
    },
    {
      "cell_type": "code",
      "metadata": {
        "id": "U0CSQRqDcV0q",
        "outputId": "bb859cd2-0706-4332-8145-0111125268d3",
        "colab": {
          "base_uri": "https://localhost:8080/",
          "height": 35
        }
      },
      "source": [
        "if colab_session:\n",
        "    from google.colab import drive\n",
        "    drive.mount('/content/drive')\n",
        "\n",
        "    DATADIR = \"/content/drive/My Drive/sberhack\" # change if necessary"
      ],
      "execution_count": null,
      "outputs": [
        {
          "output_type": "stream",
          "text": [
            "Drive already mounted at /content/drive; to attempt to forcibly remount, call drive.mount(\"/content/drive\", force_remount=True).\n"
          ],
          "name": "stdout"
        }
      ]
    },
    {
      "cell_type": "code",
      "metadata": {
        "id": "E0z0PtFQb5HE"
      },
      "source": [
        "colab_install_dependencies = False"
      ],
      "execution_count": null,
      "outputs": []
    },
    {
      "cell_type": "code",
      "metadata": {
        "id": "KHkIq4vmb9K_"
      },
      "source": [
        "if colab_install_dependencies:\n",
        "    !pip install implicit\n",
        "    !pip install -U lightgbm\n",
        "    !pip install -U pyarrow\n",
        "\n",
        "import implicit\n",
        "#import lightgbm as lgb"
      ],
      "execution_count": null,
      "outputs": []
    },
    {
      "cell_type": "code",
      "metadata": {
        "id": "-akba904cbBr"
      },
      "source": [
        "from pandas.api.types import CategoricalDtype\n",
        "from scipy.sparse import csr_matrix\n",
        "\n",
        "def load_i2i_data(name, feature_name):\n",
        "    df = pd.read_csv(f\"{DATADIR}/{name}.csv\")\n",
        "\n",
        "    if \"Unnamed: 0\" in df.columns:\n",
        "        df.drop(columns=['Unnamed: 0'], inplace=True)\n",
        "    \n",
        "    users = list(sorted(df['user_id'].unique()))\n",
        "    products = list(sorted(df['product_id'].unique()))\n",
        "\n",
        "    print(\"Data size:\", len(df))\n",
        "    print(\"Users:\", len(users))\n",
        "    print(\"Products:\", len(products))\n",
        "    \n",
        "    # create sparse item-user matrix\n",
        "    row = df.user_id.astype(CategoricalDtype(categories=users)).cat.codes\n",
        "    col = df.product_id.astype(CategoricalDtype(categories=products)).cat.codes\n",
        "\n",
        "    data = df[feature_name].tolist()\n",
        "    item_user_matrix = csr_matrix((data, (row, col)), shape=(len(users), len(products))).T\n",
        "\n",
        "    return item_user_matrix"
      ],
      "execution_count": null,
      "outputs": []
    },
    {
      "cell_type": "code",
      "metadata": {
        "id": "7vjBinW7drG3"
      },
      "source": [
        "def save_obj(obj, name):\n",
        "    pickle.dump(obj, open(f\"{DATADIR}/{name}.pkl\", \"wb\") )\n",
        "  \n",
        "def load_obj(name):\n",
        "    return pickle.load(open(f\"{DATADIR}/{name}.pkl\", \"rb\"))"
      ],
      "execution_count": null,
      "outputs": []
    },
    {
      "cell_type": "code",
      "metadata": {
        "id": "eMNj4npQduMp",
        "outputId": "12759a7c-3a2a-4f4e-9221-1910b93f9035",
        "colab": {
          "base_uri": "https://localhost:8080/",
          "height": 122,
          "referenced_widgets": [
            "ec16dfdd700847e4b22973c9decab93d",
            "bcf87f3b8e314c7cb4108155c8fb4d36",
            "3b29dbb6fa094bbc881d77107ad1f2ca",
            "540a0e5996df4e6c8e357875a06487d2",
            "3d2bcbb0c8b04794aefc77569e768ee3",
            "a2efc30f052847ef9be7fd8459c2d4b5",
            "ab73703cd5924340bbdeb0ac2980a89a",
            "8637b47823a44be293015644bde8bf51"
          ]
        }
      },
      "source": [
        "# instantiate and fit the model\n",
        "item_user_matrix = load_i2i_data('quantities_norm', 'quantity_norm')\n",
        "\n",
        "i2i_model = implicit.nearest_neighbours.BM25Recommender(K=1, num_threads=4)\n",
        "i2i_model.fit(item_user_matrix)\n",
        "\n",
        "# save the model\n",
        "save_obj(i2i_model, \"i2i_model_bm25\")"
      ],
      "execution_count": null,
      "outputs": [
        {
          "output_type": "stream",
          "text": [
            "Data size: 46194236\n",
            "Users: 657502\n",
            "Products: 95002\n"
          ],
          "name": "stdout"
        },
        {
          "output_type": "display_data",
          "data": {
            "application/vnd.jupyter.widget-view+json": {
              "model_id": "ec16dfdd700847e4b22973c9decab93d",
              "version_minor": 0,
              "version_major": 2
            },
            "text/plain": [
              "HBox(children=(FloatProgress(value=0.0, max=95002.0), HTML(value='')))"
            ]
          },
          "metadata": {
            "tags": []
          }
        },
        {
          "output_type": "stream",
          "text": [
            "\n"
          ],
          "name": "stdout"
        }
      ]
    },
    {
      "cell_type": "code",
      "metadata": {
        "id": "cTZNE1cSeJ_m"
      },
      "source": [
        "# load mappings\n",
        "\n",
        "mapping_users = load_obj(\"mapping_users\") # encoded_id -> real_id\n",
        "mapping_products = load_obj(\"mapping_products\")\n",
        "\n",
        "inverse_mapping_users = load_obj(\"inverse_mapping_users\") # real_id -> encoded_id\n",
        "inverse_mapping_products = load_obj(\"inverse_mapping_products\")"
      ],
      "execution_count": null,
      "outputs": []
    },
    {
      "cell_type": "code",
      "metadata": {
        "id": "pP0UXJYuifNJ"
      },
      "source": [
        "submission = pd.read_csv(f\"{DATADIR}/sample_submission.csv\")\n",
        "test_ids = submission['Id'].tolist()"
      ],
      "execution_count": null,
      "outputs": []
    },
    {
      "cell_type": "code",
      "metadata": {
        "id": "B1hrgjV2gCcz",
        "outputId": "fab5f3e0-f509-4293-e617-f3cd16390b20",
        "colab": {
          "base_uri": "https://localhost:8080/",
          "height": 35
        }
      },
      "source": [
        "from tqdm import tqdm\n",
        "\n",
        "test_list = []\n",
        "\n",
        "for test_id in tqdm(test_ids):\n",
        "    matrix_user_id = inverse_mapping_users[test_id]\n",
        "    recs = i2i_model.recommend(userid=0, user_items=item_user_matrix[:, matrix_user_id].T.astype('float32'), N=50, filter_already_liked_items=False, recalculate_user=True)\n",
        "\n",
        "    for i, rec in enumerate(recs):\n",
        "        test_list.append( [test_id, mapping_products[rec[0]], 49-i, rec[1]] )"
      ],
      "execution_count": null,
      "outputs": [
        {
          "output_type": "stream",
          "text": [
            "100%|██████████| 107068/107068 [00:47<00:00, 2230.67it/s]\n"
          ],
          "name": "stderr"
        }
      ]
    },
    {
      "cell_type": "code",
      "metadata": {
        "id": "tAZmidOryC5q",
        "outputId": "9ec34cc1-0baf-4bb3-f970-2f95cebe3004",
        "colab": {
          "base_uri": "https://localhost:8080/",
          "height": 206
        }
      },
      "source": [
        "new_df = pd.DataFrame(test_list)\n",
        "new_df.head()"
      ],
      "execution_count": null,
      "outputs": [
        {
          "output_type": "execute_result",
          "data": {
            "text/html": [
              "<div>\n",
              "<style scoped>\n",
              "    .dataframe tbody tr th:only-of-type {\n",
              "        vertical-align: middle;\n",
              "    }\n",
              "\n",
              "    .dataframe tbody tr th {\n",
              "        vertical-align: top;\n",
              "    }\n",
              "\n",
              "    .dataframe thead th {\n",
              "        text-align: right;\n",
              "    }\n",
              "</style>\n",
              "<table border=\"1\" class=\"dataframe\">\n",
              "  <thead>\n",
              "    <tr style=\"text-align: right;\">\n",
              "      <th></th>\n",
              "      <th>0</th>\n",
              "      <th>1</th>\n",
              "      <th>2</th>\n",
              "      <th>3</th>\n",
              "    </tr>\n",
              "  </thead>\n",
              "  <tbody>\n",
              "    <tr>\n",
              "      <th>0</th>\n",
              "      <td>51</td>\n",
              "      <td>14863</td>\n",
              "      <td>49</td>\n",
              "      <td>13.176471</td>\n",
              "    </tr>\n",
              "    <tr>\n",
              "      <th>1</th>\n",
              "      <td>51</td>\n",
              "      <td>63057</td>\n",
              "      <td>48</td>\n",
              "      <td>3.000000</td>\n",
              "    </tr>\n",
              "    <tr>\n",
              "      <th>2</th>\n",
              "      <td>51</td>\n",
              "      <td>3562687</td>\n",
              "      <td>47</td>\n",
              "      <td>2.705882</td>\n",
              "    </tr>\n",
              "    <tr>\n",
              "      <th>3</th>\n",
              "      <td>51</td>\n",
              "      <td>9979</td>\n",
              "      <td>46</td>\n",
              "      <td>2.117647</td>\n",
              "    </tr>\n",
              "    <tr>\n",
              "      <th>4</th>\n",
              "      <td>51</td>\n",
              "      <td>2558</td>\n",
              "      <td>45</td>\n",
              "      <td>2.117647</td>\n",
              "    </tr>\n",
              "  </tbody>\n",
              "</table>\n",
              "</div>"
            ],
            "text/plain": [
              "    0        1   2          3\n",
              "0  51    14863  49  13.176471\n",
              "1  51    63057  48   3.000000\n",
              "2  51  3562687  47   2.705882\n",
              "3  51     9979  46   2.117647\n",
              "4  51     2558  45   2.117647"
            ]
          },
          "metadata": {
            "tags": []
          },
          "execution_count": 12
        }
      ]
    },
    {
      "cell_type": "code",
      "metadata": {
        "id": "vKYDcNSX0Yog",
        "outputId": "17da619f-7700-45b6-beea-88989dbfda72",
        "colab": {
          "base_uri": "https://localhost:8080/",
          "height": 206
        }
      },
      "source": [
        "new_df.columns = ['user_id', 'product_id', 'rec_rank', 'rec_score']\n",
        "new_df.head()"
      ],
      "execution_count": null,
      "outputs": [
        {
          "output_type": "execute_result",
          "data": {
            "text/html": [
              "<div>\n",
              "<style scoped>\n",
              "    .dataframe tbody tr th:only-of-type {\n",
              "        vertical-align: middle;\n",
              "    }\n",
              "\n",
              "    .dataframe tbody tr th {\n",
              "        vertical-align: top;\n",
              "    }\n",
              "\n",
              "    .dataframe thead th {\n",
              "        text-align: right;\n",
              "    }\n",
              "</style>\n",
              "<table border=\"1\" class=\"dataframe\">\n",
              "  <thead>\n",
              "    <tr style=\"text-align: right;\">\n",
              "      <th></th>\n",
              "      <th>user_id</th>\n",
              "      <th>product_id</th>\n",
              "      <th>rec_rank</th>\n",
              "      <th>rec_score</th>\n",
              "    </tr>\n",
              "  </thead>\n",
              "  <tbody>\n",
              "    <tr>\n",
              "      <th>0</th>\n",
              "      <td>51</td>\n",
              "      <td>14863</td>\n",
              "      <td>49</td>\n",
              "      <td>13.176471</td>\n",
              "    </tr>\n",
              "    <tr>\n",
              "      <th>1</th>\n",
              "      <td>51</td>\n",
              "      <td>63057</td>\n",
              "      <td>48</td>\n",
              "      <td>3.000000</td>\n",
              "    </tr>\n",
              "    <tr>\n",
              "      <th>2</th>\n",
              "      <td>51</td>\n",
              "      <td>3562687</td>\n",
              "      <td>47</td>\n",
              "      <td>2.705882</td>\n",
              "    </tr>\n",
              "    <tr>\n",
              "      <th>3</th>\n",
              "      <td>51</td>\n",
              "      <td>9979</td>\n",
              "      <td>46</td>\n",
              "      <td>2.117647</td>\n",
              "    </tr>\n",
              "    <tr>\n",
              "      <th>4</th>\n",
              "      <td>51</td>\n",
              "      <td>2558</td>\n",
              "      <td>45</td>\n",
              "      <td>2.117647</td>\n",
              "    </tr>\n",
              "  </tbody>\n",
              "</table>\n",
              "</div>"
            ],
            "text/plain": [
              "   user_id  product_id  rec_rank  rec_score\n",
              "0       51       14863        49  13.176471\n",
              "1       51       63057        48   3.000000\n",
              "2       51     3562687        47   2.705882\n",
              "3       51        9979        46   2.117647\n",
              "4       51        2558        45   2.117647"
            ]
          },
          "metadata": {
            "tags": []
          },
          "execution_count": 14
        }
      ]
    },
    {
      "cell_type": "code",
      "metadata": {
        "id": "IuiVtGBtELb2",
        "outputId": "15335974-09cc-4c94-8399-374422782ddb",
        "colab": {
          "base_uri": "https://localhost:8080/",
          "height": 206
        }
      },
      "source": [
        "new_df.head()"
      ],
      "execution_count": null,
      "outputs": [
        {
          "output_type": "execute_result",
          "data": {
            "text/html": [
              "<div>\n",
              "<style scoped>\n",
              "    .dataframe tbody tr th:only-of-type {\n",
              "        vertical-align: middle;\n",
              "    }\n",
              "\n",
              "    .dataframe tbody tr th {\n",
              "        vertical-align: top;\n",
              "    }\n",
              "\n",
              "    .dataframe thead th {\n",
              "        text-align: right;\n",
              "    }\n",
              "</style>\n",
              "<table border=\"1\" class=\"dataframe\">\n",
              "  <thead>\n",
              "    <tr style=\"text-align: right;\">\n",
              "      <th></th>\n",
              "      <th>user_id</th>\n",
              "      <th>product_id</th>\n",
              "      <th>rec_rank</th>\n",
              "      <th>rec_score</th>\n",
              "    </tr>\n",
              "  </thead>\n",
              "  <tbody>\n",
              "    <tr>\n",
              "      <th>0</th>\n",
              "      <td>51</td>\n",
              "      <td>14863</td>\n",
              "      <td>49</td>\n",
              "      <td>13.176471</td>\n",
              "    </tr>\n",
              "    <tr>\n",
              "      <th>1</th>\n",
              "      <td>51</td>\n",
              "      <td>63057</td>\n",
              "      <td>48</td>\n",
              "      <td>3.000000</td>\n",
              "    </tr>\n",
              "    <tr>\n",
              "      <th>2</th>\n",
              "      <td>51</td>\n",
              "      <td>3562687</td>\n",
              "      <td>47</td>\n",
              "      <td>2.705882</td>\n",
              "    </tr>\n",
              "    <tr>\n",
              "      <th>3</th>\n",
              "      <td>51</td>\n",
              "      <td>9979</td>\n",
              "      <td>46</td>\n",
              "      <td>2.117647</td>\n",
              "    </tr>\n",
              "    <tr>\n",
              "      <th>4</th>\n",
              "      <td>51</td>\n",
              "      <td>2558</td>\n",
              "      <td>45</td>\n",
              "      <td>2.117647</td>\n",
              "    </tr>\n",
              "  </tbody>\n",
              "</table>\n",
              "</div>"
            ],
            "text/plain": [
              "   user_id  product_id  rec_rank  rec_score\n",
              "0       51       14863        49  13.176471\n",
              "1       51       63057        48   3.000000\n",
              "2       51     3562687        47   2.705882\n",
              "3       51        9979        46   2.117647\n",
              "4       51        2558        45   2.117647"
            ]
          },
          "metadata": {
            "tags": []
          },
          "execution_count": 35
        }
      ]
    },
    {
      "cell_type": "code",
      "metadata": {
        "id": "wrUsXOn8ENvn"
      },
      "source": [
        "new_df.to_csv(f\"{DATADIR}/roflan.csv\", index=False)"
      ],
      "execution_count": null,
      "outputs": []
    },
    {
      "cell_type": "code",
      "metadata": {
        "id": "0BhmheXv2LOr",
        "outputId": "63efbf00-9a12-4809-b8a8-fc043137067c",
        "colab": {
          "base_uri": "https://localhost:8080/",
          "height": 256
        }
      },
      "source": [
        "new_df.groupby('user_id')['product_id'].nunique()"
      ],
      "execution_count": null,
      "outputs": [
        {
          "output_type": "execute_result",
          "data": {
            "text/plain": [
              "user_id\n",
              "51         50\n",
              "65         50\n",
              "187         2\n",
              "400        50\n",
              "576        50\n",
              "           ..\n",
              "3142760    50\n",
              "3142766    25\n",
              "3142774    12\n",
              "3142820    21\n",
              "3142875    11\n",
              "Name: product_id, Length: 107068, dtype: int64"
            ]
          },
          "metadata": {
            "tags": []
          },
          "execution_count": 34
        }
      ]
    },
    {
      "cell_type": "code",
      "metadata": {
        "id": "0iG4GFg7qi4P"
      },
      "source": [
        "df = pd.read_csv(f\"{DATADIR}/quantities_norm.csv\")\n",
        "\n",
        "if \"Unnamed: 0\" in df.columns:\n",
        "    df.drop(columns=['Unnamed: 0'], inplace=True)"
      ],
      "execution_count": null,
      "outputs": []
    },
    {
      "cell_type": "code",
      "metadata": {
        "id": "BUjEwbDR4qZR",
        "outputId": "37bd6559-7918-4dc3-e7a3-c32d54591b7f",
        "colab": {
          "base_uri": "https://localhost:8080/",
          "height": 206
        }
      },
      "source": [
        "df.head()"
      ],
      "execution_count": null,
      "outputs": [
        {
          "output_type": "execute_result",
          "data": {
            "text/html": [
              "<div>\n",
              "<style scoped>\n",
              "    .dataframe tbody tr th:only-of-type {\n",
              "        vertical-align: middle;\n",
              "    }\n",
              "\n",
              "    .dataframe tbody tr th {\n",
              "        vertical-align: top;\n",
              "    }\n",
              "\n",
              "    .dataframe thead th {\n",
              "        text-align: right;\n",
              "    }\n",
              "</style>\n",
              "<table border=\"1\" class=\"dataframe\">\n",
              "  <thead>\n",
              "    <tr style=\"text-align: right;\">\n",
              "      <th></th>\n",
              "      <th>user_id</th>\n",
              "      <th>product_id</th>\n",
              "      <th>quantity_norm</th>\n",
              "    </tr>\n",
              "  </thead>\n",
              "  <tbody>\n",
              "    <tr>\n",
              "      <th>0</th>\n",
              "      <td>51</td>\n",
              "      <td>0</td>\n",
              "      <td>0.529412</td>\n",
              "    </tr>\n",
              "    <tr>\n",
              "      <th>1</th>\n",
              "      <td>51</td>\n",
              "      <td>159</td>\n",
              "      <td>0.058824</td>\n",
              "    </tr>\n",
              "    <tr>\n",
              "      <th>2</th>\n",
              "      <td>51</td>\n",
              "      <td>397</td>\n",
              "      <td>0.117647</td>\n",
              "    </tr>\n",
              "    <tr>\n",
              "      <th>3</th>\n",
              "      <td>51</td>\n",
              "      <td>407</td>\n",
              "      <td>0.941176</td>\n",
              "    </tr>\n",
              "    <tr>\n",
              "      <th>4</th>\n",
              "      <td>51</td>\n",
              "      <td>456</td>\n",
              "      <td>1.176471</td>\n",
              "    </tr>\n",
              "  </tbody>\n",
              "</table>\n",
              "</div>"
            ],
            "text/plain": [
              "   user_id  product_id  quantity_norm\n",
              "0       51           0       0.529412\n",
              "1       51         159       0.058824\n",
              "2       51         397       0.117647\n",
              "3       51         407       0.941176\n",
              "4       51         456       1.176471"
            ]
          },
          "metadata": {
            "tags": []
          },
          "execution_count": 33
        }
      ]
    },
    {
      "cell_type": "code",
      "metadata": {
        "id": "8a1yBQKNr6E8",
        "outputId": "a9a2e9c7-671d-47ae-ab55-7f613497aaf3",
        "colab": {
          "base_uri": "https://localhost:8080/",
          "height": 206
        }
      },
      "source": [
        "most_popular_items_df = df.groupby('product_id', as_index=False)['quantity_norm'].sum()\n",
        "most_popular_items_df.sort_values(by=['quantity_norm'], ascending=False, inplace=True)\n",
        "most_popular_items_df.head()"
      ],
      "execution_count": null,
      "outputs": [
        {
          "output_type": "execute_result",
          "data": {
            "text/html": [
              "<div>\n",
              "<style scoped>\n",
              "    .dataframe tbody tr th:only-of-type {\n",
              "        vertical-align: middle;\n",
              "    }\n",
              "\n",
              "    .dataframe tbody tr th {\n",
              "        vertical-align: top;\n",
              "    }\n",
              "\n",
              "    .dataframe thead th {\n",
              "        text-align: right;\n",
              "    }\n",
              "</style>\n",
              "<table border=\"1\" class=\"dataframe\">\n",
              "  <thead>\n",
              "    <tr style=\"text-align: right;\">\n",
              "      <th></th>\n",
              "      <th>product_id</th>\n",
              "      <th>quantity_norm</th>\n",
              "    </tr>\n",
              "  </thead>\n",
              "  <tbody>\n",
              "    <tr>\n",
              "      <th>51839</th>\n",
              "      <td>5481337</td>\n",
              "      <td>338364.838957</td>\n",
              "    </tr>\n",
              "    <tr>\n",
              "      <th>0</th>\n",
              "      <td>0</td>\n",
              "      <td>311158.092267</td>\n",
              "    </tr>\n",
              "    <tr>\n",
              "      <th>195</th>\n",
              "      <td>709</td>\n",
              "      <td>101947.840394</td>\n",
              "    </tr>\n",
              "    <tr>\n",
              "      <th>365</th>\n",
              "      <td>1300</td>\n",
              "      <td>75669.164817</td>\n",
              "    </tr>\n",
              "    <tr>\n",
              "      <th>69</th>\n",
              "      <td>158</td>\n",
              "      <td>71976.451851</td>\n",
              "    </tr>\n",
              "  </tbody>\n",
              "</table>\n",
              "</div>"
            ],
            "text/plain": [
              "       product_id  quantity_norm\n",
              "51839     5481337  338364.838957\n",
              "0               0  311158.092267\n",
              "195           709  101947.840394\n",
              "365          1300   75669.164817\n",
              "69            158   71976.451851"
            ]
          },
          "metadata": {
            "tags": []
          },
          "execution_count": 32
        }
      ]
    },
    {
      "cell_type": "code",
      "metadata": {
        "id": "jJuoqirC5pko",
        "outputId": "7a206b73-9189-4e01-ff9a-1ee4098f69df",
        "colab": {
          "base_uri": "https://localhost:8080/",
          "height": 206
        }
      },
      "source": [
        "most_popular_items_df.reset_index(inplace=True)\n",
        "most_popular_items_df.drop(columns=['index'], inplace=True)\n",
        "most_popular_items_df.head()"
      ],
      "execution_count": null,
      "outputs": [
        {
          "output_type": "execute_result",
          "data": {
            "text/html": [
              "<div>\n",
              "<style scoped>\n",
              "    .dataframe tbody tr th:only-of-type {\n",
              "        vertical-align: middle;\n",
              "    }\n",
              "\n",
              "    .dataframe tbody tr th {\n",
              "        vertical-align: top;\n",
              "    }\n",
              "\n",
              "    .dataframe thead th {\n",
              "        text-align: right;\n",
              "    }\n",
              "</style>\n",
              "<table border=\"1\" class=\"dataframe\">\n",
              "  <thead>\n",
              "    <tr style=\"text-align: right;\">\n",
              "      <th></th>\n",
              "      <th>product_id</th>\n",
              "      <th>quantity_norm</th>\n",
              "    </tr>\n",
              "  </thead>\n",
              "  <tbody>\n",
              "    <tr>\n",
              "      <th>0</th>\n",
              "      <td>5481337</td>\n",
              "      <td>338364.838957</td>\n",
              "    </tr>\n",
              "    <tr>\n",
              "      <th>1</th>\n",
              "      <td>0</td>\n",
              "      <td>311158.092267</td>\n",
              "    </tr>\n",
              "    <tr>\n",
              "      <th>2</th>\n",
              "      <td>709</td>\n",
              "      <td>101947.840394</td>\n",
              "    </tr>\n",
              "    <tr>\n",
              "      <th>3</th>\n",
              "      <td>1300</td>\n",
              "      <td>75669.164817</td>\n",
              "    </tr>\n",
              "    <tr>\n",
              "      <th>4</th>\n",
              "      <td>158</td>\n",
              "      <td>71976.451851</td>\n",
              "    </tr>\n",
              "  </tbody>\n",
              "</table>\n",
              "</div>"
            ],
            "text/plain": [
              "   product_id  quantity_norm\n",
              "0     5481337  338364.838957\n",
              "1           0  311158.092267\n",
              "2         709  101947.840394\n",
              "3        1300   75669.164817\n",
              "4         158   71976.451851"
            ]
          },
          "metadata": {
            "tags": []
          },
          "execution_count": 29
        }
      ]
    },
    {
      "cell_type": "code",
      "metadata": {
        "id": "JDDK3Pdq5i7t"
      },
      "source": [
        "most_popular_items_list = most_popular_items_df.iloc[0:100]['product_id'].tolist()"
      ],
      "execution_count": null,
      "outputs": []
    },
    {
      "cell_type": "code",
      "metadata": {
        "id": "x9UktvXoeh4d"
      },
      "source": [
        "def generate_submission_for_recommender_only(model, sparse_matrix, sub_num):\n",
        "    test_dict = {}\n",
        "\n",
        "    for test_id in tqdm(test_ids):\n",
        "        matrix_user_id = inverse_mapping_users[test_id]\n",
        "        recs = model.recommend(userid=0, user_items=sparse_matrix[:, matrix_user_id].T.astype('float32'), N=50, filter_already_liked_items=False)\n",
        "\n",
        "        rec_list = []\n",
        "        for rec in recs:\n",
        "            rec_list.append(str(mapping_products[rec[0]]))\n",
        "        test_dict[test_id] = \" \".join(rec_list)\n",
        "    \n",
        "    # pack into dataframe\n",
        "    sub = pd.DataFrame.from_dict(test_dict, orient='index')\n",
        "    sub.index.name = 'Id'\n",
        "    sub.rename(columns={0 : 'Predicted'}, inplace=True)\n",
        "    sub.reset_index(level=0, inplace=True)\n",
        "\n",
        "    # save to scv\n",
        "    sub.to_csv(f\"{DATADIR}/submission_{sub_num}.csv\", index=False)\n",
        "\n",
        "    return sub"
      ],
      "execution_count": null,
      "outputs": []
    },
    {
      "cell_type": "code",
      "metadata": {
        "id": "7Qv-R2UFIUT1",
        "outputId": "e5b6b67d-8b9c-4f22-fe8b-de3c80b1c2f8",
        "colab": {
          "base_uri": "https://localhost:8080/",
          "height": 225
        }
      },
      "source": [
        "sub = generate_submission_for_recommender_only(i2i_model, item_user_matrix, 3)\n",
        "sub.head()"
      ],
      "execution_count": null,
      "outputs": [
        {
          "output_type": "stream",
          "text": [
            "100%|██████████| 107068/107068 [00:41<00:00, 2563.52it/s]\n"
          ],
          "name": "stderr"
        },
        {
          "output_type": "execute_result",
          "data": {
            "text/html": [
              "<div>\n",
              "<style scoped>\n",
              "    .dataframe tbody tr th:only-of-type {\n",
              "        vertical-align: middle;\n",
              "    }\n",
              "\n",
              "    .dataframe tbody tr th {\n",
              "        vertical-align: top;\n",
              "    }\n",
              "\n",
              "    .dataframe thead th {\n",
              "        text-align: right;\n",
              "    }\n",
              "</style>\n",
              "<table border=\"1\" class=\"dataframe\">\n",
              "  <thead>\n",
              "    <tr style=\"text-align: right;\">\n",
              "      <th></th>\n",
              "      <th>Id</th>\n",
              "      <th>Predicted</th>\n",
              "    </tr>\n",
              "  </thead>\n",
              "  <tbody>\n",
              "    <tr>\n",
              "      <th>0</th>\n",
              "      <td>51</td>\n",
              "      <td>14863 2558 63057 3562687 2545 2546 2150 84364 ...</td>\n",
              "    </tr>\n",
              "    <tr>\n",
              "      <th>1</th>\n",
              "      <td>65</td>\n",
              "      <td>18450 26062 18439 4141822 10019 5639 55049 138...</td>\n",
              "    </tr>\n",
              "    <tr>\n",
              "      <th>2</th>\n",
              "      <td>766</td>\n",
              "      <td>3043457 3041849 17228 50462 3069043 74609 9404...</td>\n",
              "    </tr>\n",
              "    <tr>\n",
              "      <th>3</th>\n",
              "      <td>1132</td>\n",
              "      <td>20499 2592 91008 66965 2629 2165 2146 6004065 ...</td>\n",
              "    </tr>\n",
              "    <tr>\n",
              "      <th>4</th>\n",
              "      <td>1578</td>\n",
              "      <td>19924 158 8545 285 96323 6003928 5629938 65526...</td>\n",
              "    </tr>\n",
              "  </tbody>\n",
              "</table>\n",
              "</div>"
            ],
            "text/plain": [
              "     Id                                          Predicted\n",
              "0    51  14863 2558 63057 3562687 2545 2546 2150 84364 ...\n",
              "1    65  18450 26062 18439 4141822 10019 5639 55049 138...\n",
              "2   766  3043457 3041849 17228 50462 3069043 74609 9404...\n",
              "3  1132  20499 2592 91008 66965 2629 2165 2146 6004065 ...\n",
              "4  1578  19924 158 8545 285 96323 6003928 5629938 65526..."
            ]
          },
          "metadata": {
            "tags": []
          },
          "execution_count": 42
        }
      ]
    },
    {
      "cell_type": "markdown",
      "metadata": {
        "id": "M2jmk_O6fskO"
      },
      "source": [
        "# LGB"
      ]
    },
    {
      "cell_type": "code",
      "metadata": {
        "id": "NrB33yTaf42k",
        "outputId": "a80b9f45-14d8-4921-85e5-38a16b62ee7f",
        "colab": {
          "base_uri": "https://localhost:8080/",
          "height": 226
        }
      },
      "source": [
        "dataset = pd.read_parquet(f\"{DATADIR}/final_features.parquet\", columns=['user_id', 'product_id', 'quantity', 'transaction_value', 'parent_category_id', 'target', 'user_order_num', 'mean_items_in_trans',\\\n",
        "                                                                        'mean_items_in_trans_log_denom', 'mean_items_in_trans_log', 'max', 'median', 'mean', 'max_normed', 'mean_normed', 'median_normed'])\n",
        "dataset.head()"
      ],
      "execution_count": null,
      "outputs": [
        {
          "output_type": "execute_result",
          "data": {
            "text/html": [
              "<div>\n",
              "<style scoped>\n",
              "    .dataframe tbody tr th:only-of-type {\n",
              "        vertical-align: middle;\n",
              "    }\n",
              "\n",
              "    .dataframe tbody tr th {\n",
              "        vertical-align: top;\n",
              "    }\n",
              "\n",
              "    .dataframe thead th {\n",
              "        text-align: right;\n",
              "    }\n",
              "</style>\n",
              "<table border=\"1\" class=\"dataframe\">\n",
              "  <thead>\n",
              "    <tr style=\"text-align: right;\">\n",
              "      <th></th>\n",
              "      <th>user_id</th>\n",
              "      <th>product_id</th>\n",
              "      <th>quantity</th>\n",
              "      <th>transaction_value</th>\n",
              "      <th>parent_category_id</th>\n",
              "      <th>target</th>\n",
              "      <th>user_order_num</th>\n",
              "      <th>mean_items_in_trans</th>\n",
              "      <th>mean_items_in_trans_log_denom</th>\n",
              "      <th>mean_items_in_trans_log</th>\n",
              "      <th>max</th>\n",
              "      <th>median</th>\n",
              "      <th>mean</th>\n",
              "      <th>max_normed</th>\n",
              "      <th>mean_normed</th>\n",
              "      <th>median_normed</th>\n",
              "    </tr>\n",
              "  </thead>\n",
              "  <tbody>\n",
              "    <tr>\n",
              "      <th>0</th>\n",
              "      <td>51</td>\n",
              "      <td>0</td>\n",
              "      <td>9</td>\n",
              "      <td>1055.630005</td>\n",
              "      <td>0</td>\n",
              "      <td>0</td>\n",
              "      <td>17</td>\n",
              "      <td>0.529412</td>\n",
              "      <td>2.347900</td>\n",
              "      <td>-0.634102</td>\n",
              "      <td>255</td>\n",
              "      <td>37.0</td>\n",
              "      <td>65.982821</td>\n",
              "      <td>1.294416</td>\n",
              "      <td>0.334938</td>\n",
              "      <td>0.187817</td>\n",
              "    </tr>\n",
              "    <tr>\n",
              "      <th>1</th>\n",
              "      <td>51</td>\n",
              "      <td>159</td>\n",
              "      <td>1</td>\n",
              "      <td>65.900002</td>\n",
              "      <td>20</td>\n",
              "      <td>0</td>\n",
              "      <td>17</td>\n",
              "      <td>0.058824</td>\n",
              "      <td>0.260878</td>\n",
              "      <td>-2.816356</td>\n",
              "      <td>255</td>\n",
              "      <td>4.0</td>\n",
              "      <td>23.091493</td>\n",
              "      <td>1.564417</td>\n",
              "      <td>0.141666</td>\n",
              "      <td>0.024540</td>\n",
              "    </tr>\n",
              "    <tr>\n",
              "      <th>2</th>\n",
              "      <td>51</td>\n",
              "      <td>397</td>\n",
              "      <td>2</td>\n",
              "      <td>778.000000</td>\n",
              "      <td>35</td>\n",
              "      <td>0</td>\n",
              "      <td>17</td>\n",
              "      <td>0.117647</td>\n",
              "      <td>0.521755</td>\n",
              "      <td>-2.131602</td>\n",
              "      <td>255</td>\n",
              "      <td>0.0</td>\n",
              "      <td>4.822646</td>\n",
              "      <td>2.405660</td>\n",
              "      <td>0.045497</td>\n",
              "      <td>0.000000</td>\n",
              "    </tr>\n",
              "    <tr>\n",
              "      <th>3</th>\n",
              "      <td>51</td>\n",
              "      <td>407</td>\n",
              "      <td>16</td>\n",
              "      <td>2274.049973</td>\n",
              "      <td>35</td>\n",
              "      <td>0</td>\n",
              "      <td>17</td>\n",
              "      <td>0.941176</td>\n",
              "      <td>4.174044</td>\n",
              "      <td>-0.059563</td>\n",
              "      <td>255</td>\n",
              "      <td>4.0</td>\n",
              "      <td>22.039294</td>\n",
              "      <td>14.166667</td>\n",
              "      <td>1.224405</td>\n",
              "      <td>0.222222</td>\n",
              "    </tr>\n",
              "    <tr>\n",
              "      <th>4</th>\n",
              "      <td>51</td>\n",
              "      <td>456</td>\n",
              "      <td>20</td>\n",
              "      <td>2162.779984</td>\n",
              "      <td>35</td>\n",
              "      <td>1</td>\n",
              "      <td>17</td>\n",
              "      <td>1.176471</td>\n",
              "      <td>5.217555</td>\n",
              "      <td>0.163369</td>\n",
              "      <td>255</td>\n",
              "      <td>4.0</td>\n",
              "      <td>22.569472</td>\n",
              "      <td>2.865169</td>\n",
              "      <td>0.253590</td>\n",
              "      <td>0.044944</td>\n",
              "    </tr>\n",
              "  </tbody>\n",
              "</table>\n",
              "</div>"
            ],
            "text/plain": [
              "   user_id  product_id  quantity  ...  max_normed  mean_normed  median_normed\n",
              "0       51           0         9  ...    1.294416     0.334938       0.187817\n",
              "1       51         159         1  ...    1.564417     0.141666       0.024540\n",
              "2       51         397         2  ...    2.405660     0.045497       0.000000\n",
              "3       51         407        16  ...   14.166667     1.224405       0.222222\n",
              "4       51         456        20  ...    2.865169     0.253590       0.044944\n",
              "\n",
              "[5 rows x 16 columns]"
            ]
          },
          "metadata": {
            "tags": []
          },
          "execution_count": 14
        }
      ]
    },
    {
      "cell_type": "code",
      "metadata": {
        "id": "CuApyhqLvbxd"
      },
      "source": [
        "dataset['user_id'] = dataset['user_id'].map(inverse_mapping_users)\n",
        "dataset['product_id'] = dataset['product_id'].map(inverse_mapping_products)"
      ],
      "execution_count": null,
      "outputs": []
    },
    {
      "cell_type": "code",
      "metadata": {
        "id": "joG-9XhTv3Py",
        "outputId": "f3eae783-f2ae-43b6-ab1d-dc1bc853d445",
        "colab": {
          "base_uri": "https://localhost:8080/",
          "height": 226
        }
      },
      "source": [
        "dataset.head()"
      ],
      "execution_count": null,
      "outputs": [
        {
          "output_type": "execute_result",
          "data": {
            "text/html": [
              "<div>\n",
              "<style scoped>\n",
              "    .dataframe tbody tr th:only-of-type {\n",
              "        vertical-align: middle;\n",
              "    }\n",
              "\n",
              "    .dataframe tbody tr th {\n",
              "        vertical-align: top;\n",
              "    }\n",
              "\n",
              "    .dataframe thead th {\n",
              "        text-align: right;\n",
              "    }\n",
              "</style>\n",
              "<table border=\"1\" class=\"dataframe\">\n",
              "  <thead>\n",
              "    <tr style=\"text-align: right;\">\n",
              "      <th></th>\n",
              "      <th>user_id</th>\n",
              "      <th>product_id</th>\n",
              "      <th>quantity</th>\n",
              "      <th>transaction_value</th>\n",
              "      <th>parent_category_id</th>\n",
              "      <th>target</th>\n",
              "      <th>user_order_num</th>\n",
              "      <th>mean_items_in_trans</th>\n",
              "      <th>mean_items_in_trans_log_denom</th>\n",
              "      <th>mean_items_in_trans_log</th>\n",
              "      <th>max</th>\n",
              "      <th>median</th>\n",
              "      <th>mean</th>\n",
              "      <th>max_normed</th>\n",
              "      <th>mean_normed</th>\n",
              "      <th>median_normed</th>\n",
              "    </tr>\n",
              "  </thead>\n",
              "  <tbody>\n",
              "    <tr>\n",
              "      <th>0</th>\n",
              "      <td>0</td>\n",
              "      <td>0</td>\n",
              "      <td>9</td>\n",
              "      <td>1055.630005</td>\n",
              "      <td>0</td>\n",
              "      <td>0</td>\n",
              "      <td>17</td>\n",
              "      <td>0.529412</td>\n",
              "      <td>2.347900</td>\n",
              "      <td>-0.634102</td>\n",
              "      <td>255</td>\n",
              "      <td>37.0</td>\n",
              "      <td>65.982821</td>\n",
              "      <td>1.294416</td>\n",
              "      <td>0.334938</td>\n",
              "      <td>0.187817</td>\n",
              "    </tr>\n",
              "    <tr>\n",
              "      <th>1</th>\n",
              "      <td>0</td>\n",
              "      <td>70</td>\n",
              "      <td>1</td>\n",
              "      <td>65.900002</td>\n",
              "      <td>20</td>\n",
              "      <td>0</td>\n",
              "      <td>17</td>\n",
              "      <td>0.058824</td>\n",
              "      <td>0.260878</td>\n",
              "      <td>-2.816356</td>\n",
              "      <td>255</td>\n",
              "      <td>4.0</td>\n",
              "      <td>23.091493</td>\n",
              "      <td>1.564417</td>\n",
              "      <td>0.141666</td>\n",
              "      <td>0.024540</td>\n",
              "    </tr>\n",
              "    <tr>\n",
              "      <th>2</th>\n",
              "      <td>0</td>\n",
              "      <td>132</td>\n",
              "      <td>2</td>\n",
              "      <td>778.000000</td>\n",
              "      <td>35</td>\n",
              "      <td>0</td>\n",
              "      <td>17</td>\n",
              "      <td>0.117647</td>\n",
              "      <td>0.521755</td>\n",
              "      <td>-2.131602</td>\n",
              "      <td>255</td>\n",
              "      <td>0.0</td>\n",
              "      <td>4.822646</td>\n",
              "      <td>2.405660</td>\n",
              "      <td>0.045497</td>\n",
              "      <td>0.000000</td>\n",
              "    </tr>\n",
              "    <tr>\n",
              "      <th>3</th>\n",
              "      <td>0</td>\n",
              "      <td>134</td>\n",
              "      <td>16</td>\n",
              "      <td>2274.049973</td>\n",
              "      <td>35</td>\n",
              "      <td>0</td>\n",
              "      <td>17</td>\n",
              "      <td>0.941176</td>\n",
              "      <td>4.174044</td>\n",
              "      <td>-0.059563</td>\n",
              "      <td>255</td>\n",
              "      <td>4.0</td>\n",
              "      <td>22.039294</td>\n",
              "      <td>14.166667</td>\n",
              "      <td>1.224405</td>\n",
              "      <td>0.222222</td>\n",
              "    </tr>\n",
              "    <tr>\n",
              "      <th>4</th>\n",
              "      <td>0</td>\n",
              "      <td>141</td>\n",
              "      <td>20</td>\n",
              "      <td>2162.779984</td>\n",
              "      <td>35</td>\n",
              "      <td>1</td>\n",
              "      <td>17</td>\n",
              "      <td>1.176471</td>\n",
              "      <td>5.217555</td>\n",
              "      <td>0.163369</td>\n",
              "      <td>255</td>\n",
              "      <td>4.0</td>\n",
              "      <td>22.569472</td>\n",
              "      <td>2.865169</td>\n",
              "      <td>0.253590</td>\n",
              "      <td>0.044944</td>\n",
              "    </tr>\n",
              "  </tbody>\n",
              "</table>\n",
              "</div>"
            ],
            "text/plain": [
              "   user_id  product_id  quantity  ...  max_normed  mean_normed  median_normed\n",
              "0        0           0         9  ...    1.294416     0.334938       0.187817\n",
              "1        0          70         1  ...    1.564417     0.141666       0.024540\n",
              "2        0         132         2  ...    2.405660     0.045497       0.000000\n",
              "3        0         134        16  ...   14.166667     1.224405       0.222222\n",
              "4        0         141        20  ...    2.865169     0.253590       0.044944\n",
              "\n",
              "[5 rows x 16 columns]"
            ]
          },
          "metadata": {
            "tags": []
          },
          "execution_count": 16
        }
      ]
    },
    {
      "cell_type": "code",
      "metadata": {
        "id": "yBc7ztLjyabn"
      },
      "source": [
        "def get_query_id(df):\n",
        "    query_map = {}\n",
        "    for query_id, user_id in enumerate(df['user_id'].unique()):\n",
        "        query_map[user_id] = query_id\n",
        "    query_id = df['user_id'].map(query_map)\n",
        "    return query_id\n",
        "\n",
        "dataset['query_id'] = get_query_id(dataset)\n",
        "dataset.head()"
      ],
      "execution_count": null,
      "outputs": []
    },
    {
      "cell_type": "code",
      "metadata": {
        "id": "iGVGWW6AD0aZ",
        "outputId": "6ee7cb21-3dda-4a0a-b822-0930370e37d1",
        "colab": {
          "base_uri": "https://localhost:8080/",
          "height": 384
        }
      },
      "source": [
        "!nvidia-smi"
      ],
      "execution_count": null,
      "outputs": [
        {
          "output_type": "stream",
          "text": [
            "Sat Oct 10 22:18:37 2020       \n",
            "+-----------------------------------------------------------------------------+\n",
            "| NVIDIA-SMI 455.23.05    Driver Version: 418.67       CUDA Version: 10.1     |\n",
            "|-------------------------------+----------------------+----------------------+\n",
            "| GPU  Name        Persistence-M| Bus-Id        Disp.A | Volatile Uncorr. ECC |\n",
            "| Fan  Temp  Perf  Pwr:Usage/Cap|         Memory-Usage | GPU-Util  Compute M. |\n",
            "|                               |                      |               MIG M. |\n",
            "|===============================+======================+======================|\n",
            "|   0  Tesla V100-SXM2...  Off  | 00000000:00:04.0 Off |                    0 |\n",
            "| N/A   32C    P0    23W / 300W |      0MiB / 16130MiB |      0%      Default |\n",
            "|                               |                      |                 ERR! |\n",
            "+-------------------------------+----------------------+----------------------+\n",
            "                                                                               \n",
            "+-----------------------------------------------------------------------------+\n",
            "| Processes:                                                                  |\n",
            "|  GPU   GI   CI        PID   Type   Process name                  GPU Memory |\n",
            "|        ID   ID                                                   Usage      |\n",
            "|=============================================================================|\n",
            "|  No running processes found                                                 |\n",
            "+-----------------------------------------------------------------------------+\n"
          ],
          "name": "stdout"
        }
      ]
    },
    {
      "cell_type": "code",
      "metadata": {
        "id": "BmY-uZhjHEb9",
        "outputId": "e3bd038d-9c03-45ce-9bc5-52c1892a7966",
        "colab": {
          "base_uri": "https://localhost:8080/",
          "height": 109
        }
      },
      "source": [
        "!pip uninstall lightgbm"
      ],
      "execution_count": null,
      "outputs": [
        {
          "output_type": "stream",
          "text": [
            "Uninstalling lightgbm-3.0.0:\n",
            "  Would remove:\n",
            "    /usr/local/lib/python3.6/dist-packages/lightgbm-3.0.0.dist-info/*\n",
            "Proceed (y/n)? y\n",
            "  Successfully uninstalled lightgbm-3.0.0\n"
          ],
          "name": "stdout"
        }
      ]
    },
    {
      "cell_type": "code",
      "metadata": {
        "id": "dNE3_16hEu-X",
        "outputId": "0791cb8a-c391-41dd-eb07-542c5b26baef",
        "colab": {
          "base_uri": "https://localhost:8080/",
          "height": 256
        }
      },
      "source": [
        "!pip install lightgbm --install-option=--gpu"
      ],
      "execution_count": null,
      "outputs": [
        {
          "output_type": "stream",
          "text": [
            "/usr/local/lib/python3.6/dist-packages/pip/_internal/commands/install.py:283: UserWarning: Disabling all use of wheels due to the use of --build-options / --global-options / --install-options.\n",
            "  cmdoptions.check_install_build_global(options)\n",
            "Collecting lightgbm\n",
            "\u001b[?25l  Downloading https://files.pythonhosted.org/packages/0f/fe/3032d68f7bf3e3b65aafecc628cde020759eb23bde406855860f664cdf7d/lightgbm-3.0.0.tar.gz (711kB)\n",
            "\u001b[K     |████████████████████████████████| 716kB 8.2MB/s \n",
            "\u001b[?25hRequirement already satisfied: numpy in /usr/local/lib/python3.6/dist-packages (from lightgbm) (1.18.5)\n",
            "Requirement already satisfied: scipy in /usr/local/lib/python3.6/dist-packages (from lightgbm) (1.4.1)\n",
            "Requirement already satisfied: scikit-learn!=0.22.0 in /usr/local/lib/python3.6/dist-packages (from lightgbm) (0.22.2.post1)\n",
            "Requirement already satisfied: joblib>=0.11 in /usr/local/lib/python3.6/dist-packages (from scikit-learn!=0.22.0->lightgbm) (0.16.0)\n",
            "Skipping wheel build for lightgbm, due to binaries being disabled for it.\n",
            "Installing collected packages: lightgbm\n",
            "    Running setup.py install for lightgbm ... \u001b[?25l\u001b[?25hdone\n",
            "Successfully installed lightgbm-3.0.0\n"
          ],
          "name": "stdout"
        }
      ]
    },
    {
      "cell_type": "code",
      "metadata": {
        "id": "k_PCjZLeFthE"
      },
      "source": [
        "import lightgbm as lgb"
      ],
      "execution_count": null,
      "outputs": []
    },
    {
      "cell_type": "code",
      "metadata": {
        "id": "2o-8IjaPc6D-",
        "outputId": "685bc6a4-3f38-4a40-bafb-a7b40d9ff5c8",
        "colab": {
          "base_uri": "https://localhost:8080/",
          "height": 226
        }
      },
      "source": [
        "dataset.reset_index(level=0, inplace=True)\n",
        "dataset.head()"
      ],
      "execution_count": null,
      "outputs": [
        {
          "output_type": "execute_result",
          "data": {
            "text/html": [
              "<div>\n",
              "<style scoped>\n",
              "    .dataframe tbody tr th:only-of-type {\n",
              "        vertical-align: middle;\n",
              "    }\n",
              "\n",
              "    .dataframe tbody tr th {\n",
              "        vertical-align: top;\n",
              "    }\n",
              "\n",
              "    .dataframe thead th {\n",
              "        text-align: right;\n",
              "    }\n",
              "</style>\n",
              "<table border=\"1\" class=\"dataframe\">\n",
              "  <thead>\n",
              "    <tr style=\"text-align: right;\">\n",
              "      <th></th>\n",
              "      <th>user_id</th>\n",
              "      <th>product_id</th>\n",
              "      <th>quantity</th>\n",
              "      <th>transaction_value</th>\n",
              "      <th>parent_category_id</th>\n",
              "      <th>target</th>\n",
              "      <th>user_order_num</th>\n",
              "      <th>mean_items_in_trans</th>\n",
              "      <th>mean_items_in_trans_log_denom</th>\n",
              "      <th>mean_items_in_trans_log</th>\n",
              "      <th>max</th>\n",
              "      <th>median</th>\n",
              "      <th>mean</th>\n",
              "      <th>max_normed</th>\n",
              "      <th>mean_normed</th>\n",
              "      <th>median_normed</th>\n",
              "    </tr>\n",
              "  </thead>\n",
              "  <tbody>\n",
              "    <tr>\n",
              "      <th>0</th>\n",
              "      <td>0</td>\n",
              "      <td>0</td>\n",
              "      <td>9</td>\n",
              "      <td>1055.630005</td>\n",
              "      <td>0</td>\n",
              "      <td>0</td>\n",
              "      <td>17</td>\n",
              "      <td>0.529412</td>\n",
              "      <td>2.347900</td>\n",
              "      <td>-0.634102</td>\n",
              "      <td>255</td>\n",
              "      <td>37.0</td>\n",
              "      <td>65.982821</td>\n",
              "      <td>1.294416</td>\n",
              "      <td>0.334938</td>\n",
              "      <td>0.187817</td>\n",
              "    </tr>\n",
              "    <tr>\n",
              "      <th>1</th>\n",
              "      <td>0</td>\n",
              "      <td>70</td>\n",
              "      <td>1</td>\n",
              "      <td>65.900002</td>\n",
              "      <td>20</td>\n",
              "      <td>0</td>\n",
              "      <td>17</td>\n",
              "      <td>0.058824</td>\n",
              "      <td>0.260878</td>\n",
              "      <td>-2.816356</td>\n",
              "      <td>255</td>\n",
              "      <td>4.0</td>\n",
              "      <td>23.091493</td>\n",
              "      <td>1.564417</td>\n",
              "      <td>0.141666</td>\n",
              "      <td>0.024540</td>\n",
              "    </tr>\n",
              "    <tr>\n",
              "      <th>2</th>\n",
              "      <td>0</td>\n",
              "      <td>132</td>\n",
              "      <td>2</td>\n",
              "      <td>778.000000</td>\n",
              "      <td>35</td>\n",
              "      <td>0</td>\n",
              "      <td>17</td>\n",
              "      <td>0.117647</td>\n",
              "      <td>0.521755</td>\n",
              "      <td>-2.131602</td>\n",
              "      <td>255</td>\n",
              "      <td>0.0</td>\n",
              "      <td>4.822646</td>\n",
              "      <td>2.405660</td>\n",
              "      <td>0.045497</td>\n",
              "      <td>0.000000</td>\n",
              "    </tr>\n",
              "    <tr>\n",
              "      <th>3</th>\n",
              "      <td>0</td>\n",
              "      <td>134</td>\n",
              "      <td>16</td>\n",
              "      <td>2274.049973</td>\n",
              "      <td>35</td>\n",
              "      <td>0</td>\n",
              "      <td>17</td>\n",
              "      <td>0.941176</td>\n",
              "      <td>4.174044</td>\n",
              "      <td>-0.059563</td>\n",
              "      <td>255</td>\n",
              "      <td>4.0</td>\n",
              "      <td>22.039294</td>\n",
              "      <td>14.166667</td>\n",
              "      <td>1.224405</td>\n",
              "      <td>0.222222</td>\n",
              "    </tr>\n",
              "    <tr>\n",
              "      <th>4</th>\n",
              "      <td>0</td>\n",
              "      <td>141</td>\n",
              "      <td>20</td>\n",
              "      <td>2162.779984</td>\n",
              "      <td>35</td>\n",
              "      <td>1</td>\n",
              "      <td>17</td>\n",
              "      <td>1.176471</td>\n",
              "      <td>5.217555</td>\n",
              "      <td>0.163369</td>\n",
              "      <td>255</td>\n",
              "      <td>4.0</td>\n",
              "      <td>22.569472</td>\n",
              "      <td>2.865169</td>\n",
              "      <td>0.253590</td>\n",
              "      <td>0.044944</td>\n",
              "    </tr>\n",
              "  </tbody>\n",
              "</table>\n",
              "</div>"
            ],
            "text/plain": [
              "   user_id  product_id  quantity  ...  max_normed  mean_normed  median_normed\n",
              "0        0           0         9  ...    1.294416     0.334938       0.187817\n",
              "1        0          70         1  ...    1.564417     0.141666       0.024540\n",
              "2        0         132         2  ...    2.405660     0.045497       0.000000\n",
              "3        0         134        16  ...   14.166667     1.224405       0.222222\n",
              "4        0         141        20  ...    2.865169     0.253590       0.044944\n",
              "\n",
              "[5 rows x 16 columns]"
            ]
          },
          "metadata": {
            "tags": []
          },
          "execution_count": 42
        }
      ]
    },
    {
      "cell_type": "code",
      "metadata": {
        "id": "cU7v_6jKMAp5",
        "outputId": "7625aeb7-748b-4ed9-cef5-e4115580b66e",
        "colab": {
          "base_uri": "https://localhost:8080/",
          "height": 206
        }
      },
      "source": [
        "dropped_columns = dataset[['user_id', 'target', 'query_id']].copy()\n",
        "dropped_columns.head()"
      ],
      "execution_count": null,
      "outputs": [
        {
          "output_type": "execute_result",
          "data": {
            "text/html": [
              "<div>\n",
              "<style scoped>\n",
              "    .dataframe tbody tr th:only-of-type {\n",
              "        vertical-align: middle;\n",
              "    }\n",
              "\n",
              "    .dataframe tbody tr th {\n",
              "        vertical-align: top;\n",
              "    }\n",
              "\n",
              "    .dataframe thead th {\n",
              "        text-align: right;\n",
              "    }\n",
              "</style>\n",
              "<table border=\"1\" class=\"dataframe\">\n",
              "  <thead>\n",
              "    <tr style=\"text-align: right;\">\n",
              "      <th></th>\n",
              "      <th>user_id</th>\n",
              "      <th>target</th>\n",
              "      <th>query_id</th>\n",
              "    </tr>\n",
              "  </thead>\n",
              "  <tbody>\n",
              "    <tr>\n",
              "      <th>0</th>\n",
              "      <td>0</td>\n",
              "      <td>0</td>\n",
              "      <td>0</td>\n",
              "    </tr>\n",
              "    <tr>\n",
              "      <th>1</th>\n",
              "      <td>0</td>\n",
              "      <td>0</td>\n",
              "      <td>0</td>\n",
              "    </tr>\n",
              "    <tr>\n",
              "      <th>2</th>\n",
              "      <td>0</td>\n",
              "      <td>0</td>\n",
              "      <td>0</td>\n",
              "    </tr>\n",
              "    <tr>\n",
              "      <th>3</th>\n",
              "      <td>0</td>\n",
              "      <td>0</td>\n",
              "      <td>0</td>\n",
              "    </tr>\n",
              "    <tr>\n",
              "      <th>4</th>\n",
              "      <td>0</td>\n",
              "      <td>1</td>\n",
              "      <td>0</td>\n",
              "    </tr>\n",
              "  </tbody>\n",
              "</table>\n",
              "</div>"
            ],
            "text/plain": [
              "   user_id  target  query_id\n",
              "0        0       0         0\n",
              "1        0       0         0\n",
              "2        0       0         0\n",
              "3        0       0         0\n",
              "4        0       1         0"
            ]
          },
          "metadata": {
            "tags": []
          },
          "execution_count": 14
        }
      ]
    },
    {
      "cell_type": "code",
      "metadata": {
        "id": "VAlcQFgUMLkh"
      },
      "source": [
        "dataset.drop(columns=['user_id', 'target', 'query_id'], inplace=True)"
      ],
      "execution_count": null,
      "outputs": []
    },
    {
      "cell_type": "code",
      "metadata": {
        "id": "pz-tbgwhvEOv"
      },
      "source": [
        "train_set = lgb.Dataset(new_df, label=dropped_columns['target'], group=dropped_columns['query_id'].value_counts().sort_index().values)"
      ],
      "execution_count": null,
      "outputs": []
    },
    {
      "cell_type": "code",
      "metadata": {
        "id": "CQ2nX-Xrwb_G"
      },
      "source": [
        "params = {\n",
        "    'objective' : 'binary',\n",
        "    'max_depth' : 12,\n",
        "    'random_state' : 42,\n",
        "    'device_type' : 'gpu',\n",
        "    'learning_rate' : 0.1,\n",
        "    'metric' : ['binary', 'map'],\n",
        "    'eval_at' : 50,\n",
        "    'max_bin' : 63,\n",
        "    'first_metric_only' : True\n",
        "}"
      ],
      "execution_count": null,
      "outputs": []
    },
    {
      "cell_type": "code",
      "metadata": {
        "id": "g6KUjqehxYAu"
      },
      "source": [
        "gbm = lgb.train(params, train_set, valid_sets=[train_set], num_boost_round=300, verbose_eval=10, early_stopping_rounds=50)"
      ],
      "execution_count": null,
      "outputs": []
    },
    {
      "cell_type": "code",
      "metadata": {
        "id": "edD9qasNSoWv",
        "outputId": "1562953d-40a2-4fd6-d156-edecc1359358",
        "colab": {
          "base_uri": "https://localhost:8080/",
          "height": 35
        }
      },
      "source": [
        "gbm.save_model(f'{DATADIR}/model.txt', num_iteration=gbm.best_iteration)"
      ],
      "execution_count": null,
      "outputs": [
        {
          "output_type": "execute_result",
          "data": {
            "text/plain": [
              "<lightgbm.basic.Booster at 0x7fdeb747c588>"
            ]
          },
          "metadata": {
            "tags": []
          },
          "execution_count": 22
        }
      ]
    },
    {
      "cell_type": "code",
      "metadata": {
        "id": "S-VuQVB_Tplm"
      },
      "source": [
        "gbm = lgb.Booster(model_file=f'{DATADIR}/model.txt')"
      ],
      "execution_count": null,
      "outputs": []
    },
    {
      "cell_type": "code",
      "metadata": {
        "id": "ZmxpAzDV-d4k"
      },
      "source": [
        "submission = pd.read_csv(f\"{DATADIR}/sample_submission.csv\")\n",
        "test_ids = submission['Id'].tolist()"
      ],
      "execution_count": null,
      "outputs": []
    },
    {
      "cell_type": "code",
      "metadata": {
        "id": "8GSfZwxr_J0V"
      },
      "source": [
        "from tqdm import tqdm"
      ],
      "execution_count": null,
      "outputs": []
    },
    {
      "cell_type": "code",
      "metadata": {
        "id": "yeYdL9XsVn_R",
        "outputId": "5dc2db5d-9ea0-49fa-acb5-2f3b39ec71e2",
        "colab": {
          "base_uri": "https://localhost:8080/",
          "height": 258
        }
      },
      "source": [
        "dataset.set_index('user_id', inplace=True)\n",
        "dataset.head()"
      ],
      "execution_count": null,
      "outputs": [
        {
          "output_type": "execute_result",
          "data": {
            "text/html": [
              "<div>\n",
              "<style scoped>\n",
              "    .dataframe tbody tr th:only-of-type {\n",
              "        vertical-align: middle;\n",
              "    }\n",
              "\n",
              "    .dataframe tbody tr th {\n",
              "        vertical-align: top;\n",
              "    }\n",
              "\n",
              "    .dataframe thead th {\n",
              "        text-align: right;\n",
              "    }\n",
              "</style>\n",
              "<table border=\"1\" class=\"dataframe\">\n",
              "  <thead>\n",
              "    <tr style=\"text-align: right;\">\n",
              "      <th></th>\n",
              "      <th>product_id</th>\n",
              "      <th>quantity</th>\n",
              "      <th>transaction_value</th>\n",
              "      <th>parent_category_id</th>\n",
              "      <th>target</th>\n",
              "      <th>user_order_num</th>\n",
              "      <th>mean_items_in_trans</th>\n",
              "      <th>mean_items_in_trans_log_denom</th>\n",
              "      <th>mean_items_in_trans_log</th>\n",
              "      <th>max</th>\n",
              "      <th>median</th>\n",
              "      <th>mean</th>\n",
              "      <th>max_normed</th>\n",
              "      <th>mean_normed</th>\n",
              "      <th>median_normed</th>\n",
              "    </tr>\n",
              "    <tr>\n",
              "      <th>user_id</th>\n",
              "      <th></th>\n",
              "      <th></th>\n",
              "      <th></th>\n",
              "      <th></th>\n",
              "      <th></th>\n",
              "      <th></th>\n",
              "      <th></th>\n",
              "      <th></th>\n",
              "      <th></th>\n",
              "      <th></th>\n",
              "      <th></th>\n",
              "      <th></th>\n",
              "      <th></th>\n",
              "      <th></th>\n",
              "      <th></th>\n",
              "    </tr>\n",
              "  </thead>\n",
              "  <tbody>\n",
              "    <tr>\n",
              "      <th>0</th>\n",
              "      <td>0</td>\n",
              "      <td>9</td>\n",
              "      <td>1055.630005</td>\n",
              "      <td>0</td>\n",
              "      <td>0</td>\n",
              "      <td>17</td>\n",
              "      <td>0.529412</td>\n",
              "      <td>2.347900</td>\n",
              "      <td>-0.634102</td>\n",
              "      <td>255</td>\n",
              "      <td>37.0</td>\n",
              "      <td>65.982821</td>\n",
              "      <td>1.294416</td>\n",
              "      <td>0.334938</td>\n",
              "      <td>0.187817</td>\n",
              "    </tr>\n",
              "    <tr>\n",
              "      <th>0</th>\n",
              "      <td>70</td>\n",
              "      <td>1</td>\n",
              "      <td>65.900002</td>\n",
              "      <td>20</td>\n",
              "      <td>0</td>\n",
              "      <td>17</td>\n",
              "      <td>0.058824</td>\n",
              "      <td>0.260878</td>\n",
              "      <td>-2.816356</td>\n",
              "      <td>255</td>\n",
              "      <td>4.0</td>\n",
              "      <td>23.091493</td>\n",
              "      <td>1.564417</td>\n",
              "      <td>0.141666</td>\n",
              "      <td>0.024540</td>\n",
              "    </tr>\n",
              "    <tr>\n",
              "      <th>0</th>\n",
              "      <td>132</td>\n",
              "      <td>2</td>\n",
              "      <td>778.000000</td>\n",
              "      <td>35</td>\n",
              "      <td>0</td>\n",
              "      <td>17</td>\n",
              "      <td>0.117647</td>\n",
              "      <td>0.521755</td>\n",
              "      <td>-2.131602</td>\n",
              "      <td>255</td>\n",
              "      <td>0.0</td>\n",
              "      <td>4.822646</td>\n",
              "      <td>2.405660</td>\n",
              "      <td>0.045497</td>\n",
              "      <td>0.000000</td>\n",
              "    </tr>\n",
              "    <tr>\n",
              "      <th>0</th>\n",
              "      <td>134</td>\n",
              "      <td>16</td>\n",
              "      <td>2274.049973</td>\n",
              "      <td>35</td>\n",
              "      <td>0</td>\n",
              "      <td>17</td>\n",
              "      <td>0.941176</td>\n",
              "      <td>4.174044</td>\n",
              "      <td>-0.059563</td>\n",
              "      <td>255</td>\n",
              "      <td>4.0</td>\n",
              "      <td>22.039294</td>\n",
              "      <td>14.166667</td>\n",
              "      <td>1.224405</td>\n",
              "      <td>0.222222</td>\n",
              "    </tr>\n",
              "    <tr>\n",
              "      <th>0</th>\n",
              "      <td>141</td>\n",
              "      <td>20</td>\n",
              "      <td>2162.779984</td>\n",
              "      <td>35</td>\n",
              "      <td>1</td>\n",
              "      <td>17</td>\n",
              "      <td>1.176471</td>\n",
              "      <td>5.217555</td>\n",
              "      <td>0.163369</td>\n",
              "      <td>255</td>\n",
              "      <td>4.0</td>\n",
              "      <td>22.569472</td>\n",
              "      <td>2.865169</td>\n",
              "      <td>0.253590</td>\n",
              "      <td>0.044944</td>\n",
              "    </tr>\n",
              "  </tbody>\n",
              "</table>\n",
              "</div>"
            ],
            "text/plain": [
              "         product_id  quantity  ...  mean_normed  median_normed\n",
              "user_id                        ...                            \n",
              "0                 0         9  ...     0.334938       0.187817\n",
              "0                70         1  ...     0.141666       0.024540\n",
              "0               132         2  ...     0.045497       0.000000\n",
              "0               134        16  ...     1.224405       0.222222\n",
              "0               141        20  ...     0.253590       0.044944\n",
              "\n",
              "[5 rows x 15 columns]"
            ]
          },
          "metadata": {
            "tags": []
          },
          "execution_count": 16
        }
      ]
    },
    {
      "cell_type": "code",
      "metadata": {
        "id": "F0zFRCjw6gsj",
        "outputId": "4fcf0975-d283-442f-f9f8-c142cc601b8d",
        "colab": {
          "base_uri": "https://localhost:8080/",
          "height": 54
        }
      },
      "source": [
        "test_dict = {}\n",
        "\n",
        "for test_id in test_ids:\n",
        "    user_id = inverse_mapping_users[test_id]\n",
        "    data = dataset.loc[user_id].drop(columns=['target'])\n",
        "    if not isinstance(data, pd.DataFrame):\n",
        "        data = data.drop('target')\n",
        "    y_pred_probas = gbm.predict(data)\n",
        "    y_pred = np.argsort(-y_pred_probas, axis=0)[:50]\n",
        "    y_pred = np.vectorize(mapping_products.get)(y_pred)\n",
        "\n",
        "    test_dict[test_id] = \" \".join([str(pred) for pred in y_pred])\n",
        "    \n",
        "# pack into dataframe\n",
        "sub = pd.DataFrame.from_dict(test_dict, orient='index')\n",
        "sub.index.name = 'Id'\n",
        "sub.rename(columns={0 : 'Predicted'}, inplace=True)\n",
        "sub.reset_index(level=0, inplace=True)"
      ],
      "execution_count": null,
      "outputs": [
        {
          "output_type": "stream",
          "text": [
            "/usr/local/lib/python3.6/dist-packages/lightgbm/basic.py:597: UserWarning: Converting data to scipy sparse matrix.\n",
            "  warnings.warn('Converting data to scipy sparse matrix.')\n"
          ],
          "name": "stderr"
        }
      ]
    },
    {
      "cell_type": "code",
      "metadata": {
        "id": "OJyvq5VE-2Ex"
      },
      "source": [
        "sub.to_csv(f\"{DATADIR}/submission_4.csv\", index=False)"
      ],
      "execution_count": null,
      "outputs": []
    },
    {
      "cell_type": "markdown",
      "metadata": {
        "id": "BBh7r5UjK--k"
      },
      "source": [
        "# PARQUET"
      ]
    },
    {
      "cell_type": "code",
      "metadata": {
        "id": "6yyE-svw3tvW",
        "outputId": "6de06e1d-e60d-42a7-c076-2f21dff1b46b",
        "colab": {
          "base_uri": "https://localhost:8080/",
          "height": 206
        }
      },
      "source": [
        "full_data = pd.read_parquet(f\"{DATADIR}/all_data.parquet\")\n",
        "full_data.drop(columns=['product_name', 'brand_name'], inplace=True)\n",
        "full_data.head()"
      ],
      "execution_count": null,
      "outputs": [
        {
          "output_type": "execute_result",
          "data": {
            "text/html": [
              "<div>\n",
              "<style scoped>\n",
              "    .dataframe tbody tr th:only-of-type {\n",
              "        vertical-align: middle;\n",
              "    }\n",
              "\n",
              "    .dataframe tbody tr th {\n",
              "        vertical-align: top;\n",
              "    }\n",
              "\n",
              "    .dataframe thead th {\n",
              "        text-align: right;\n",
              "    }\n",
              "</style>\n",
              "<table border=\"1\" class=\"dataframe\">\n",
              "  <thead>\n",
              "    <tr style=\"text-align: right;\">\n",
              "      <th></th>\n",
              "      <th>user_id</th>\n",
              "      <th>order_id</th>\n",
              "      <th>line_item_id</th>\n",
              "      <th>price</th>\n",
              "      <th>quantity</th>\n",
              "      <th>discount</th>\n",
              "      <th>product_id</th>\n",
              "      <th>master_category_id</th>\n",
              "      <th>parent_category_id</th>\n",
              "    </tr>\n",
              "  </thead>\n",
              "  <tbody>\n",
              "    <tr>\n",
              "      <th>0</th>\n",
              "      <td>525</td>\n",
              "      <td>5354800</td>\n",
              "      <td>28381452</td>\n",
              "      <td>116.000000</td>\n",
              "      <td>4</td>\n",
              "      <td>0.00</td>\n",
              "      <td>37548</td>\n",
              "      <td>101.0</td>\n",
              "      <td>99</td>\n",
              "    </tr>\n",
              "    <tr>\n",
              "      <th>1</th>\n",
              "      <td>525</td>\n",
              "      <td>5354800</td>\n",
              "      <td>29242911</td>\n",
              "      <td>56.990002</td>\n",
              "      <td>2</td>\n",
              "      <td>13.08</td>\n",
              "      <td>5636</td>\n",
              "      <td>596.0</td>\n",
              "      <td>51</td>\n",
              "    </tr>\n",
              "    <tr>\n",
              "      <th>2</th>\n",
              "      <td>525</td>\n",
              "      <td>5354800</td>\n",
              "      <td>29242919</td>\n",
              "      <td>64.989998</td>\n",
              "      <td>2</td>\n",
              "      <td>40.02</td>\n",
              "      <td>22107</td>\n",
              "      <td>596.0</td>\n",
              "      <td>51</td>\n",
              "    </tr>\n",
              "    <tr>\n",
              "      <th>3</th>\n",
              "      <td>525</td>\n",
              "      <td>5354800</td>\n",
              "      <td>29243785</td>\n",
              "      <td>44.990002</td>\n",
              "      <td>6</td>\n",
              "      <td>0.00</td>\n",
              "      <td>2530</td>\n",
              "      <td>77.0</td>\n",
              "      <td>74</td>\n",
              "    </tr>\n",
              "    <tr>\n",
              "      <th>4</th>\n",
              "      <td>525</td>\n",
              "      <td>5354800</td>\n",
              "      <td>29244246</td>\n",
              "      <td>65.900002</td>\n",
              "      <td>6</td>\n",
              "      <td>30.99</td>\n",
              "      <td>3818486</td>\n",
              "      <td>76.0</td>\n",
              "      <td>74</td>\n",
              "    </tr>\n",
              "  </tbody>\n",
              "</table>\n",
              "</div>"
            ],
            "text/plain": [
              "   user_id  order_id  ...  master_category_id  parent_category_id\n",
              "0      525   5354800  ...               101.0                  99\n",
              "1      525   5354800  ...               596.0                  51\n",
              "2      525   5354800  ...               596.0                  51\n",
              "3      525   5354800  ...                77.0                  74\n",
              "4      525   5354800  ...                76.0                  74\n",
              "\n",
              "[5 rows x 9 columns]"
            ]
          },
          "metadata": {
            "tags": []
          },
          "execution_count": 43
        }
      ]
    },
    {
      "cell_type": "code",
      "metadata": {
        "id": "gvVqpBznbeYY",
        "outputId": "4aa69d5a-c3d5-4d48-aae9-70fc22862c5b",
        "colab": {
          "base_uri": "https://localhost:8080/",
          "height": 206
        }
      },
      "source": [
        "full_data['target'] = 0\n",
        "full_data.head()"
      ],
      "execution_count": null,
      "outputs": [
        {
          "output_type": "execute_result",
          "data": {
            "text/html": [
              "<div>\n",
              "<style scoped>\n",
              "    .dataframe tbody tr th:only-of-type {\n",
              "        vertical-align: middle;\n",
              "    }\n",
              "\n",
              "    .dataframe tbody tr th {\n",
              "        vertical-align: top;\n",
              "    }\n",
              "\n",
              "    .dataframe thead th {\n",
              "        text-align: right;\n",
              "    }\n",
              "</style>\n",
              "<table border=\"1\" class=\"dataframe\">\n",
              "  <thead>\n",
              "    <tr style=\"text-align: right;\">\n",
              "      <th></th>\n",
              "      <th>user_id</th>\n",
              "      <th>order_id</th>\n",
              "      <th>line_item_id</th>\n",
              "      <th>price</th>\n",
              "      <th>quantity</th>\n",
              "      <th>discount</th>\n",
              "      <th>product_id</th>\n",
              "      <th>master_category_id</th>\n",
              "      <th>parent_category_id</th>\n",
              "      <th>target</th>\n",
              "    </tr>\n",
              "  </thead>\n",
              "  <tbody>\n",
              "    <tr>\n",
              "      <th>0</th>\n",
              "      <td>525</td>\n",
              "      <td>5354800</td>\n",
              "      <td>28381452</td>\n",
              "      <td>116.000000</td>\n",
              "      <td>4</td>\n",
              "      <td>0.00</td>\n",
              "      <td>37548</td>\n",
              "      <td>101.0</td>\n",
              "      <td>99</td>\n",
              "      <td>0</td>\n",
              "    </tr>\n",
              "    <tr>\n",
              "      <th>1</th>\n",
              "      <td>525</td>\n",
              "      <td>5354800</td>\n",
              "      <td>29242911</td>\n",
              "      <td>56.990002</td>\n",
              "      <td>2</td>\n",
              "      <td>13.08</td>\n",
              "      <td>5636</td>\n",
              "      <td>596.0</td>\n",
              "      <td>51</td>\n",
              "      <td>0</td>\n",
              "    </tr>\n",
              "    <tr>\n",
              "      <th>2</th>\n",
              "      <td>525</td>\n",
              "      <td>5354800</td>\n",
              "      <td>29242919</td>\n",
              "      <td>64.989998</td>\n",
              "      <td>2</td>\n",
              "      <td>40.02</td>\n",
              "      <td>22107</td>\n",
              "      <td>596.0</td>\n",
              "      <td>51</td>\n",
              "      <td>0</td>\n",
              "    </tr>\n",
              "    <tr>\n",
              "      <th>3</th>\n",
              "      <td>525</td>\n",
              "      <td>5354800</td>\n",
              "      <td>29243785</td>\n",
              "      <td>44.990002</td>\n",
              "      <td>6</td>\n",
              "      <td>0.00</td>\n",
              "      <td>2530</td>\n",
              "      <td>77.0</td>\n",
              "      <td>74</td>\n",
              "      <td>0</td>\n",
              "    </tr>\n",
              "    <tr>\n",
              "      <th>4</th>\n",
              "      <td>525</td>\n",
              "      <td>5354800</td>\n",
              "      <td>29244246</td>\n",
              "      <td>65.900002</td>\n",
              "      <td>6</td>\n",
              "      <td>30.99</td>\n",
              "      <td>3818486</td>\n",
              "      <td>76.0</td>\n",
              "      <td>74</td>\n",
              "      <td>0</td>\n",
              "    </tr>\n",
              "  </tbody>\n",
              "</table>\n",
              "</div>"
            ],
            "text/plain": [
              "   user_id  order_id  ...  parent_category_id  target\n",
              "0      525   5354800  ...                  99       0\n",
              "1      525   5354800  ...                  51       0\n",
              "2      525   5354800  ...                  51       0\n",
              "3      525   5354800  ...                  74       0\n",
              "4      525   5354800  ...                  74       0\n",
              "\n",
              "[5 rows x 10 columns]"
            ]
          },
          "metadata": {
            "tags": []
          },
          "execution_count": 44
        }
      ]
    },
    {
      "cell_type": "code",
      "metadata": {
        "id": "NvPjno17LBLu"
      },
      "source": [
        "last_orders = full_data.groupby('user_id', as_index=False)['order_id'].max()['order_id'].tolist()\n",
        "last_orders"
      ],
      "execution_count": null,
      "outputs": []
    },
    {
      "cell_type": "code",
      "metadata": {
        "id": "peT0Q4frduOW"
      },
      "source": [
        "last_order_ids = full_data.index[full_data['order_id'].isin(last_orders)].tolist()\n",
        "last_order_ids"
      ],
      "execution_count": null,
      "outputs": []
    },
    {
      "cell_type": "code",
      "metadata": {
        "id": "NFTgMBP1eNfY",
        "outputId": "1a9620d1-39ca-4295-cbe2-b986aebe3e7b",
        "colab": {
          "base_uri": "https://localhost:8080/",
          "height": 206
        }
      },
      "source": [
        "full_data.loc[last_order_ids, 'target'] = 1\n",
        "full_data.head()"
      ],
      "execution_count": null,
      "outputs": [
        {
          "output_type": "execute_result",
          "data": {
            "text/html": [
              "<div>\n",
              "<style scoped>\n",
              "    .dataframe tbody tr th:only-of-type {\n",
              "        vertical-align: middle;\n",
              "    }\n",
              "\n",
              "    .dataframe tbody tr th {\n",
              "        vertical-align: top;\n",
              "    }\n",
              "\n",
              "    .dataframe thead th {\n",
              "        text-align: right;\n",
              "    }\n",
              "</style>\n",
              "<table border=\"1\" class=\"dataframe\">\n",
              "  <thead>\n",
              "    <tr style=\"text-align: right;\">\n",
              "      <th></th>\n",
              "      <th>user_id</th>\n",
              "      <th>order_id</th>\n",
              "      <th>line_item_id</th>\n",
              "      <th>price</th>\n",
              "      <th>quantity</th>\n",
              "      <th>discount</th>\n",
              "      <th>product_id</th>\n",
              "      <th>master_category_id</th>\n",
              "      <th>parent_category_id</th>\n",
              "      <th>target</th>\n",
              "    </tr>\n",
              "  </thead>\n",
              "  <tbody>\n",
              "    <tr>\n",
              "      <th>0</th>\n",
              "      <td>525</td>\n",
              "      <td>5354800</td>\n",
              "      <td>28381452</td>\n",
              "      <td>116.000000</td>\n",
              "      <td>4</td>\n",
              "      <td>0.00</td>\n",
              "      <td>37548</td>\n",
              "      <td>101.0</td>\n",
              "      <td>99</td>\n",
              "      <td>0</td>\n",
              "    </tr>\n",
              "    <tr>\n",
              "      <th>1</th>\n",
              "      <td>525</td>\n",
              "      <td>5354800</td>\n",
              "      <td>29242911</td>\n",
              "      <td>56.990002</td>\n",
              "      <td>2</td>\n",
              "      <td>13.08</td>\n",
              "      <td>5636</td>\n",
              "      <td>596.0</td>\n",
              "      <td>51</td>\n",
              "      <td>0</td>\n",
              "    </tr>\n",
              "    <tr>\n",
              "      <th>2</th>\n",
              "      <td>525</td>\n",
              "      <td>5354800</td>\n",
              "      <td>29242919</td>\n",
              "      <td>64.989998</td>\n",
              "      <td>2</td>\n",
              "      <td>40.02</td>\n",
              "      <td>22107</td>\n",
              "      <td>596.0</td>\n",
              "      <td>51</td>\n",
              "      <td>0</td>\n",
              "    </tr>\n",
              "    <tr>\n",
              "      <th>3</th>\n",
              "      <td>525</td>\n",
              "      <td>5354800</td>\n",
              "      <td>29243785</td>\n",
              "      <td>44.990002</td>\n",
              "      <td>6</td>\n",
              "      <td>0.00</td>\n",
              "      <td>2530</td>\n",
              "      <td>77.0</td>\n",
              "      <td>74</td>\n",
              "      <td>0</td>\n",
              "    </tr>\n",
              "    <tr>\n",
              "      <th>4</th>\n",
              "      <td>525</td>\n",
              "      <td>5354800</td>\n",
              "      <td>29244246</td>\n",
              "      <td>65.900002</td>\n",
              "      <td>6</td>\n",
              "      <td>30.99</td>\n",
              "      <td>3818486</td>\n",
              "      <td>76.0</td>\n",
              "      <td>74</td>\n",
              "      <td>0</td>\n",
              "    </tr>\n",
              "  </tbody>\n",
              "</table>\n",
              "</div>"
            ],
            "text/plain": [
              "   user_id  order_id  ...  parent_category_id  target\n",
              "0      525   5354800  ...                  99       0\n",
              "1      525   5354800  ...                  51       0\n",
              "2      525   5354800  ...                  51       0\n",
              "3      525   5354800  ...                  74       0\n",
              "4      525   5354800  ...                  74       0\n",
              "\n",
              "[5 rows x 10 columns]"
            ]
          },
          "metadata": {
            "tags": []
          },
          "execution_count": 13
        }
      ]
    },
    {
      "cell_type": "code",
      "metadata": {
        "id": "JkIKIr2olFi6",
        "outputId": "fec448c8-f24e-4e38-d176-59bc2b55610d",
        "colab": {
          "base_uri": "https://localhost:8080/",
          "height": 206
        }
      },
      "source": [
        "full_data.drop(columns=['line_item_id'], inplace=True)\n",
        "full_data.head()"
      ],
      "execution_count": null,
      "outputs": [
        {
          "output_type": "execute_result",
          "data": {
            "text/html": [
              "<div>\n",
              "<style scoped>\n",
              "    .dataframe tbody tr th:only-of-type {\n",
              "        vertical-align: middle;\n",
              "    }\n",
              "\n",
              "    .dataframe tbody tr th {\n",
              "        vertical-align: top;\n",
              "    }\n",
              "\n",
              "    .dataframe thead th {\n",
              "        text-align: right;\n",
              "    }\n",
              "</style>\n",
              "<table border=\"1\" class=\"dataframe\">\n",
              "  <thead>\n",
              "    <tr style=\"text-align: right;\">\n",
              "      <th></th>\n",
              "      <th>user_id</th>\n",
              "      <th>order_id</th>\n",
              "      <th>price</th>\n",
              "      <th>quantity</th>\n",
              "      <th>discount</th>\n",
              "      <th>product_id</th>\n",
              "      <th>master_category_id</th>\n",
              "      <th>parent_category_id</th>\n",
              "      <th>target</th>\n",
              "    </tr>\n",
              "  </thead>\n",
              "  <tbody>\n",
              "    <tr>\n",
              "      <th>0</th>\n",
              "      <td>525</td>\n",
              "      <td>5354800</td>\n",
              "      <td>116.000000</td>\n",
              "      <td>4</td>\n",
              "      <td>0.00</td>\n",
              "      <td>37548</td>\n",
              "      <td>101.0</td>\n",
              "      <td>99</td>\n",
              "      <td>0</td>\n",
              "    </tr>\n",
              "    <tr>\n",
              "      <th>1</th>\n",
              "      <td>525</td>\n",
              "      <td>5354800</td>\n",
              "      <td>56.990002</td>\n",
              "      <td>2</td>\n",
              "      <td>13.08</td>\n",
              "      <td>5636</td>\n",
              "      <td>596.0</td>\n",
              "      <td>51</td>\n",
              "      <td>0</td>\n",
              "    </tr>\n",
              "    <tr>\n",
              "      <th>2</th>\n",
              "      <td>525</td>\n",
              "      <td>5354800</td>\n",
              "      <td>64.989998</td>\n",
              "      <td>2</td>\n",
              "      <td>40.02</td>\n",
              "      <td>22107</td>\n",
              "      <td>596.0</td>\n",
              "      <td>51</td>\n",
              "      <td>0</td>\n",
              "    </tr>\n",
              "    <tr>\n",
              "      <th>3</th>\n",
              "      <td>525</td>\n",
              "      <td>5354800</td>\n",
              "      <td>44.990002</td>\n",
              "      <td>6</td>\n",
              "      <td>0.00</td>\n",
              "      <td>2530</td>\n",
              "      <td>77.0</td>\n",
              "      <td>74</td>\n",
              "      <td>0</td>\n",
              "    </tr>\n",
              "    <tr>\n",
              "      <th>4</th>\n",
              "      <td>525</td>\n",
              "      <td>5354800</td>\n",
              "      <td>65.900002</td>\n",
              "      <td>6</td>\n",
              "      <td>30.99</td>\n",
              "      <td>3818486</td>\n",
              "      <td>76.0</td>\n",
              "      <td>74</td>\n",
              "      <td>0</td>\n",
              "    </tr>\n",
              "  </tbody>\n",
              "</table>\n",
              "</div>"
            ],
            "text/plain": [
              "   user_id  order_id  ...  parent_category_id  target\n",
              "0      525   5354800  ...                  99       0\n",
              "1      525   5354800  ...                  51       0\n",
              "2      525   5354800  ...                  51       0\n",
              "3      525   5354800  ...                  74       0\n",
              "4      525   5354800  ...                  74       0\n",
              "\n",
              "[5 rows x 9 columns]"
            ]
          },
          "metadata": {
            "tags": []
          },
          "execution_count": 14
        }
      ]
    },
    {
      "cell_type": "code",
      "metadata": {
        "id": "pxplwa6ApNjD",
        "outputId": "a547b4b3-0e18-4e02-ecbf-1453c298090e",
        "colab": {
          "base_uri": "https://localhost:8080/",
          "height": 206
        }
      },
      "source": [
        "full_data['transaction_value'] = (full_data['price'] + full_data['discount']) * full_data['quantity']\n",
        "full_data.head()"
      ],
      "execution_count": null,
      "outputs": [
        {
          "output_type": "execute_result",
          "data": {
            "text/html": [
              "<div>\n",
              "<style scoped>\n",
              "    .dataframe tbody tr th:only-of-type {\n",
              "        vertical-align: middle;\n",
              "    }\n",
              "\n",
              "    .dataframe tbody tr th {\n",
              "        vertical-align: top;\n",
              "    }\n",
              "\n",
              "    .dataframe thead th {\n",
              "        text-align: right;\n",
              "    }\n",
              "</style>\n",
              "<table border=\"1\" class=\"dataframe\">\n",
              "  <thead>\n",
              "    <tr style=\"text-align: right;\">\n",
              "      <th></th>\n",
              "      <th>user_id</th>\n",
              "      <th>order_id</th>\n",
              "      <th>price</th>\n",
              "      <th>quantity</th>\n",
              "      <th>discount</th>\n",
              "      <th>product_id</th>\n",
              "      <th>master_category_id</th>\n",
              "      <th>parent_category_id</th>\n",
              "      <th>target</th>\n",
              "      <th>transaction_value</th>\n",
              "    </tr>\n",
              "  </thead>\n",
              "  <tbody>\n",
              "    <tr>\n",
              "      <th>0</th>\n",
              "      <td>525</td>\n",
              "      <td>5354800</td>\n",
              "      <td>116.000000</td>\n",
              "      <td>4</td>\n",
              "      <td>0.00</td>\n",
              "      <td>37548</td>\n",
              "      <td>101.0</td>\n",
              "      <td>99</td>\n",
              "      <td>0</td>\n",
              "      <td>464.000000</td>\n",
              "    </tr>\n",
              "    <tr>\n",
              "      <th>1</th>\n",
              "      <td>525</td>\n",
              "      <td>5354800</td>\n",
              "      <td>56.990002</td>\n",
              "      <td>2</td>\n",
              "      <td>13.08</td>\n",
              "      <td>5636</td>\n",
              "      <td>596.0</td>\n",
              "      <td>51</td>\n",
              "      <td>0</td>\n",
              "      <td>140.140003</td>\n",
              "    </tr>\n",
              "    <tr>\n",
              "      <th>2</th>\n",
              "      <td>525</td>\n",
              "      <td>5354800</td>\n",
              "      <td>64.989998</td>\n",
              "      <td>2</td>\n",
              "      <td>40.02</td>\n",
              "      <td>22107</td>\n",
              "      <td>596.0</td>\n",
              "      <td>51</td>\n",
              "      <td>0</td>\n",
              "      <td>210.019997</td>\n",
              "    </tr>\n",
              "    <tr>\n",
              "      <th>3</th>\n",
              "      <td>525</td>\n",
              "      <td>5354800</td>\n",
              "      <td>44.990002</td>\n",
              "      <td>6</td>\n",
              "      <td>0.00</td>\n",
              "      <td>2530</td>\n",
              "      <td>77.0</td>\n",
              "      <td>74</td>\n",
              "      <td>0</td>\n",
              "      <td>269.940010</td>\n",
              "    </tr>\n",
              "    <tr>\n",
              "      <th>4</th>\n",
              "      <td>525</td>\n",
              "      <td>5354800</td>\n",
              "      <td>65.900002</td>\n",
              "      <td>6</td>\n",
              "      <td>30.99</td>\n",
              "      <td>3818486</td>\n",
              "      <td>76.0</td>\n",
              "      <td>74</td>\n",
              "      <td>0</td>\n",
              "      <td>581.340008</td>\n",
              "    </tr>\n",
              "  </tbody>\n",
              "</table>\n",
              "</div>"
            ],
            "text/plain": [
              "   user_id  order_id       price  ...  parent_category_id  target  transaction_value\n",
              "0      525   5354800  116.000000  ...                  99       0         464.000000\n",
              "1      525   5354800   56.990002  ...                  51       0         140.140003\n",
              "2      525   5354800   64.989998  ...                  51       0         210.019997\n",
              "3      525   5354800   44.990002  ...                  74       0         269.940010\n",
              "4      525   5354800   65.900002  ...                  74       0         581.340008\n",
              "\n",
              "[5 rows x 10 columns]"
            ]
          },
          "metadata": {
            "tags": []
          },
          "execution_count": 15
        }
      ]
    },
    {
      "cell_type": "code",
      "metadata": {
        "id": "CSf3L0Bvs9g0"
      },
      "source": [
        "del full_data"
      ],
      "execution_count": null,
      "outputs": []
    },
    {
      "cell_type": "code",
      "metadata": {
        "id": "psfj4VjtlqtQ",
        "outputId": "af1ddbdd-af70-4ba1-b10c-9adce361a71d",
        "colab": {
          "base_uri": "https://localhost:8080/",
          "height": 238
        }
      },
      "source": [
        "simple_set = full_data.groupby(['user_id', 'product_id'], as_index=False).agg({'quantity' : ['sum'], 'transaction_value' : ['sum'],\\\n",
        "                                                                               'master_category_id' : ['mean'], 'parent_category_id' : ['mean'],\\\n",
        "                                                                               'target' : ['sum']})\n",
        "simple_set.head()"
      ],
      "execution_count": null,
      "outputs": [
        {
          "output_type": "execute_result",
          "data": {
            "text/html": [
              "<div>\n",
              "<style scoped>\n",
              "    .dataframe tbody tr th:only-of-type {\n",
              "        vertical-align: middle;\n",
              "    }\n",
              "\n",
              "    .dataframe tbody tr th {\n",
              "        vertical-align: top;\n",
              "    }\n",
              "\n",
              "    .dataframe thead tr th {\n",
              "        text-align: left;\n",
              "    }\n",
              "</style>\n",
              "<table border=\"1\" class=\"dataframe\">\n",
              "  <thead>\n",
              "    <tr>\n",
              "      <th></th>\n",
              "      <th>user_id</th>\n",
              "      <th>product_id</th>\n",
              "      <th>quantity</th>\n",
              "      <th>transaction_value</th>\n",
              "      <th>master_category_id</th>\n",
              "      <th>parent_category_id</th>\n",
              "      <th>target</th>\n",
              "    </tr>\n",
              "    <tr>\n",
              "      <th></th>\n",
              "      <th></th>\n",
              "      <th></th>\n",
              "      <th>sum</th>\n",
              "      <th>sum</th>\n",
              "      <th>mean</th>\n",
              "      <th>mean</th>\n",
              "      <th>sum</th>\n",
              "    </tr>\n",
              "  </thead>\n",
              "  <tbody>\n",
              "    <tr>\n",
              "      <th>0</th>\n",
              "      <td>51</td>\n",
              "      <td>0</td>\n",
              "      <td>9</td>\n",
              "      <td>1055.630005</td>\n",
              "      <td>NaN</td>\n",
              "      <td>0</td>\n",
              "      <td>0</td>\n",
              "    </tr>\n",
              "    <tr>\n",
              "      <th>1</th>\n",
              "      <td>51</td>\n",
              "      <td>159</td>\n",
              "      <td>1</td>\n",
              "      <td>65.900002</td>\n",
              "      <td>26.0</td>\n",
              "      <td>20</td>\n",
              "      <td>0</td>\n",
              "    </tr>\n",
              "    <tr>\n",
              "      <th>2</th>\n",
              "      <td>51</td>\n",
              "      <td>397</td>\n",
              "      <td>2</td>\n",
              "      <td>778.000000</td>\n",
              "      <td>38.0</td>\n",
              "      <td>35</td>\n",
              "      <td>0</td>\n",
              "    </tr>\n",
              "    <tr>\n",
              "      <th>3</th>\n",
              "      <td>51</td>\n",
              "      <td>407</td>\n",
              "      <td>16</td>\n",
              "      <td>2274.049973</td>\n",
              "      <td>38.0</td>\n",
              "      <td>35</td>\n",
              "      <td>0</td>\n",
              "    </tr>\n",
              "    <tr>\n",
              "      <th>4</th>\n",
              "      <td>51</td>\n",
              "      <td>456</td>\n",
              "      <td>20</td>\n",
              "      <td>2162.779984</td>\n",
              "      <td>39.0</td>\n",
              "      <td>35</td>\n",
              "      <td>1</td>\n",
              "    </tr>\n",
              "  </tbody>\n",
              "</table>\n",
              "</div>"
            ],
            "text/plain": [
              "  user_id product_id quantity  ... master_category_id parent_category_id target\n",
              "                          sum  ...               mean               mean    sum\n",
              "0      51          0        9  ...                NaN                  0      0\n",
              "1      51        159        1  ...               26.0                 20      0\n",
              "2      51        397        2  ...               38.0                 35      0\n",
              "3      51        407       16  ...               38.0                 35      0\n",
              "4      51        456       20  ...               39.0                 35      1\n",
              "\n",
              "[5 rows x 7 columns]"
            ]
          },
          "metadata": {
            "tags": []
          },
          "execution_count": 18
        }
      ]
    },
    {
      "cell_type": "code",
      "metadata": {
        "id": "ZdZ6SbwIsXP3",
        "outputId": "a9a928e7-fb5c-41f0-e3e7-fcd8fa688840",
        "colab": {
          "base_uri": "https://localhost:8080/",
          "height": 206
        }
      },
      "source": [
        "simple_set['master_category_id'].fillna(value=0, inplace=True)\n",
        "simple_set.head()"
      ],
      "execution_count": null,
      "outputs": [
        {
          "output_type": "execute_result",
          "data": {
            "text/html": [
              "<div>\n",
              "<style scoped>\n",
              "    .dataframe tbody tr th:only-of-type {\n",
              "        vertical-align: middle;\n",
              "    }\n",
              "\n",
              "    .dataframe tbody tr th {\n",
              "        vertical-align: top;\n",
              "    }\n",
              "\n",
              "    .dataframe thead th {\n",
              "        text-align: right;\n",
              "    }\n",
              "</style>\n",
              "<table border=\"1\" class=\"dataframe\">\n",
              "  <thead>\n",
              "    <tr style=\"text-align: right;\">\n",
              "      <th></th>\n",
              "      <th>user_id</th>\n",
              "      <th>product_id</th>\n",
              "      <th>quantity</th>\n",
              "      <th>transaction_value</th>\n",
              "      <th>master_category_id</th>\n",
              "      <th>parent_category_id</th>\n",
              "      <th>target</th>\n",
              "    </tr>\n",
              "  </thead>\n",
              "  <tbody>\n",
              "    <tr>\n",
              "      <th>0</th>\n",
              "      <td>51</td>\n",
              "      <td>0</td>\n",
              "      <td>9</td>\n",
              "      <td>1055.630005</td>\n",
              "      <td>0.0</td>\n",
              "      <td>0</td>\n",
              "      <td>0</td>\n",
              "    </tr>\n",
              "    <tr>\n",
              "      <th>1</th>\n",
              "      <td>51</td>\n",
              "      <td>159</td>\n",
              "      <td>1</td>\n",
              "      <td>65.900002</td>\n",
              "      <td>26.0</td>\n",
              "      <td>20</td>\n",
              "      <td>0</td>\n",
              "    </tr>\n",
              "    <tr>\n",
              "      <th>2</th>\n",
              "      <td>51</td>\n",
              "      <td>397</td>\n",
              "      <td>2</td>\n",
              "      <td>778.000000</td>\n",
              "      <td>38.0</td>\n",
              "      <td>35</td>\n",
              "      <td>0</td>\n",
              "    </tr>\n",
              "    <tr>\n",
              "      <th>3</th>\n",
              "      <td>51</td>\n",
              "      <td>407</td>\n",
              "      <td>16</td>\n",
              "      <td>2274.049973</td>\n",
              "      <td>38.0</td>\n",
              "      <td>35</td>\n",
              "      <td>0</td>\n",
              "    </tr>\n",
              "    <tr>\n",
              "      <th>4</th>\n",
              "      <td>51</td>\n",
              "      <td>456</td>\n",
              "      <td>20</td>\n",
              "      <td>2162.779984</td>\n",
              "      <td>39.0</td>\n",
              "      <td>35</td>\n",
              "      <td>1</td>\n",
              "    </tr>\n",
              "  </tbody>\n",
              "</table>\n",
              "</div>"
            ],
            "text/plain": [
              "   user_id  product_id  ...  parent_category_id  target\n",
              "0       51           0  ...                   0       0\n",
              "1       51         159  ...                  20       0\n",
              "2       51         397  ...                  35       0\n",
              "3       51         407  ...                  35       0\n",
              "4       51         456  ...                  35       1\n",
              "\n",
              "[5 rows x 7 columns]"
            ]
          },
          "metadata": {
            "tags": []
          },
          "execution_count": 30
        }
      ]
    },
    {
      "cell_type": "code",
      "metadata": {
        "id": "Y1-bLOdRttgg",
        "outputId": "53dd43a2-67a9-4d84-a284-9bff61d06345",
        "colab": {
          "base_uri": "https://localhost:8080/",
          "height": 206
        }
      },
      "source": [
        "simple_set['master_category_id'] = simple_set['master_category_id'].astype('int32')\n",
        "simple_set.head()"
      ],
      "execution_count": null,
      "outputs": [
        {
          "output_type": "execute_result",
          "data": {
            "text/html": [
              "<div>\n",
              "<style scoped>\n",
              "    .dataframe tbody tr th:only-of-type {\n",
              "        vertical-align: middle;\n",
              "    }\n",
              "\n",
              "    .dataframe tbody tr th {\n",
              "        vertical-align: top;\n",
              "    }\n",
              "\n",
              "    .dataframe thead th {\n",
              "        text-align: right;\n",
              "    }\n",
              "</style>\n",
              "<table border=\"1\" class=\"dataframe\">\n",
              "  <thead>\n",
              "    <tr style=\"text-align: right;\">\n",
              "      <th></th>\n",
              "      <th>user_id</th>\n",
              "      <th>product_id</th>\n",
              "      <th>quantity</th>\n",
              "      <th>transaction_value</th>\n",
              "      <th>master_category_id</th>\n",
              "      <th>parent_category_id</th>\n",
              "      <th>target</th>\n",
              "    </tr>\n",
              "  </thead>\n",
              "  <tbody>\n",
              "    <tr>\n",
              "      <th>0</th>\n",
              "      <td>51</td>\n",
              "      <td>0</td>\n",
              "      <td>9</td>\n",
              "      <td>1055.630005</td>\n",
              "      <td>0</td>\n",
              "      <td>0</td>\n",
              "      <td>0</td>\n",
              "    </tr>\n",
              "    <tr>\n",
              "      <th>1</th>\n",
              "      <td>51</td>\n",
              "      <td>159</td>\n",
              "      <td>1</td>\n",
              "      <td>65.900002</td>\n",
              "      <td>26</td>\n",
              "      <td>20</td>\n",
              "      <td>0</td>\n",
              "    </tr>\n",
              "    <tr>\n",
              "      <th>2</th>\n",
              "      <td>51</td>\n",
              "      <td>397</td>\n",
              "      <td>2</td>\n",
              "      <td>778.000000</td>\n",
              "      <td>38</td>\n",
              "      <td>35</td>\n",
              "      <td>0</td>\n",
              "    </tr>\n",
              "    <tr>\n",
              "      <th>3</th>\n",
              "      <td>51</td>\n",
              "      <td>407</td>\n",
              "      <td>16</td>\n",
              "      <td>2274.049973</td>\n",
              "      <td>38</td>\n",
              "      <td>35</td>\n",
              "      <td>0</td>\n",
              "    </tr>\n",
              "    <tr>\n",
              "      <th>4</th>\n",
              "      <td>51</td>\n",
              "      <td>456</td>\n",
              "      <td>20</td>\n",
              "      <td>2162.779984</td>\n",
              "      <td>39</td>\n",
              "      <td>35</td>\n",
              "      <td>1</td>\n",
              "    </tr>\n",
              "  </tbody>\n",
              "</table>\n",
              "</div>"
            ],
            "text/plain": [
              "   user_id  product_id  ...  parent_category_id  target\n",
              "0       51           0  ...                   0       0\n",
              "1       51         159  ...                  20       0\n",
              "2       51         397  ...                  35       0\n",
              "3       51         407  ...                  35       0\n",
              "4       51         456  ...                  35       1\n",
              "\n",
              "[5 rows x 7 columns]"
            ]
          },
          "metadata": {
            "tags": []
          },
          "execution_count": 32
        }
      ]
    },
    {
      "cell_type": "code",
      "metadata": {
        "id": "cOCiywaYuOCM",
        "outputId": "93f3c9f2-c5ec-4569-bd42-06852dc0a4c5",
        "colab": {
          "base_uri": "https://localhost:8080/",
          "height": 35
        }
      },
      "source": [
        "simple_set['target'] = simple_set['target'].astype('bool').astype('int')"
      ],
      "execution_count": null,
      "outputs": [
        {
          "output_type": "execute_result",
          "data": {
            "text/plain": [
              "1"
            ]
          },
          "metadata": {
            "tags": []
          },
          "execution_count": 33
        }
      ]
    },
    {
      "cell_type": "code",
      "metadata": {
        "id": "-JXsPn3IujrX"
      },
      "source": [
        "simple_set.to_parquet(f\"{DATADIR}/simple_dataset.parquet\")"
      ],
      "execution_count": null,
      "outputs": []
    },
    {
      "cell_type": "code",
      "metadata": {
        "id": "IItNTNcAedNX",
        "outputId": "798e4f46-6fa0-463d-b5fd-c3c2837f197f",
        "colab": {
          "base_uri": "https://localhost:8080/",
          "height": 206
        }
      },
      "source": [
        "targets = full_data[['user_id', 'product_id']].copy()\n",
        "targets.head()"
      ],
      "execution_count": null,
      "outputs": [
        {
          "output_type": "execute_result",
          "data": {
            "text/html": [
              "<div>\n",
              "<style scoped>\n",
              "    .dataframe tbody tr th:only-of-type {\n",
              "        vertical-align: middle;\n",
              "    }\n",
              "\n",
              "    .dataframe tbody tr th {\n",
              "        vertical-align: top;\n",
              "    }\n",
              "\n",
              "    .dataframe thead th {\n",
              "        text-align: right;\n",
              "    }\n",
              "</style>\n",
              "<table border=\"1\" class=\"dataframe\">\n",
              "  <thead>\n",
              "    <tr style=\"text-align: right;\">\n",
              "      <th></th>\n",
              "      <th>user_id</th>\n",
              "      <th>product_id</th>\n",
              "    </tr>\n",
              "  </thead>\n",
              "  <tbody>\n",
              "    <tr>\n",
              "      <th>0</th>\n",
              "      <td>525</td>\n",
              "      <td>37548</td>\n",
              "    </tr>\n",
              "    <tr>\n",
              "      <th>1</th>\n",
              "      <td>525</td>\n",
              "      <td>5636</td>\n",
              "    </tr>\n",
              "    <tr>\n",
              "      <th>2</th>\n",
              "      <td>525</td>\n",
              "      <td>22107</td>\n",
              "    </tr>\n",
              "    <tr>\n",
              "      <th>3</th>\n",
              "      <td>525</td>\n",
              "      <td>2530</td>\n",
              "    </tr>\n",
              "    <tr>\n",
              "      <th>4</th>\n",
              "      <td>525</td>\n",
              "      <td>3818486</td>\n",
              "    </tr>\n",
              "  </tbody>\n",
              "</table>\n",
              "</div>"
            ],
            "text/plain": [
              "   user_id  product_id\n",
              "0      525       37548\n",
              "1      525        5636\n",
              "2      525       22107\n",
              "3      525        2530\n",
              "4      525     3818486"
            ]
          },
          "metadata": {
            "tags": []
          },
          "execution_count": 28
        }
      ]
    },
    {
      "cell_type": "code",
      "metadata": {
        "id": "q018IW31f_qA",
        "outputId": "29fc4be4-1a85-43ca-e796-4266cc942825",
        "colab": {
          "base_uri": "https://localhost:8080/",
          "height": 206
        }
      },
      "source": [
        "targets.drop_duplicates(inplace=True)\n",
        "targets.head()"
      ],
      "execution_count": null,
      "outputs": [
        {
          "output_type": "execute_result",
          "data": {
            "text/html": [
              "<div>\n",
              "<style scoped>\n",
              "    .dataframe tbody tr th:only-of-type {\n",
              "        vertical-align: middle;\n",
              "    }\n",
              "\n",
              "    .dataframe tbody tr th {\n",
              "        vertical-align: top;\n",
              "    }\n",
              "\n",
              "    .dataframe thead th {\n",
              "        text-align: right;\n",
              "    }\n",
              "</style>\n",
              "<table border=\"1\" class=\"dataframe\">\n",
              "  <thead>\n",
              "    <tr style=\"text-align: right;\">\n",
              "      <th></th>\n",
              "      <th>user_id</th>\n",
              "      <th>product_id</th>\n",
              "    </tr>\n",
              "  </thead>\n",
              "  <tbody>\n",
              "    <tr>\n",
              "      <th>0</th>\n",
              "      <td>525</td>\n",
              "      <td>37548</td>\n",
              "    </tr>\n",
              "    <tr>\n",
              "      <th>1</th>\n",
              "      <td>525</td>\n",
              "      <td>5636</td>\n",
              "    </tr>\n",
              "    <tr>\n",
              "      <th>2</th>\n",
              "      <td>525</td>\n",
              "      <td>22107</td>\n",
              "    </tr>\n",
              "    <tr>\n",
              "      <th>3</th>\n",
              "      <td>525</td>\n",
              "      <td>2530</td>\n",
              "    </tr>\n",
              "    <tr>\n",
              "      <th>4</th>\n",
              "      <td>525</td>\n",
              "      <td>3818486</td>\n",
              "    </tr>\n",
              "  </tbody>\n",
              "</table>\n",
              "</div>"
            ],
            "text/plain": [
              "   user_id  product_id\n",
              "0      525       37548\n",
              "1      525        5636\n",
              "2      525       22107\n",
              "3      525        2530\n",
              "4      525     3818486"
            ]
          },
          "metadata": {
            "tags": []
          },
          "execution_count": 29
        }
      ]
    },
    {
      "cell_type": "code",
      "metadata": {
        "id": "j5Xm-GdPhQPF",
        "outputId": "aa224841-13cc-4db3-a844-2fd5433ba651",
        "colab": {
          "base_uri": "https://localhost:8080/",
          "height": 35
        }
      },
      "source": [
        "len(targets)"
      ],
      "execution_count": null,
      "outputs": [
        {
          "output_type": "execute_result",
          "data": {
            "text/plain": [
              "46194236"
            ]
          },
          "metadata": {
            "tags": []
          },
          "execution_count": 30
        }
      ]
    },
    {
      "cell_type": "code",
      "metadata": {
        "id": "gnma2DjWenAK"
      },
      "source": [
        "targets.to_csv(f\"{DATADIR}/targets.csv\", index=False)"
      ],
      "execution_count": null,
      "outputs": []
    },
    {
      "cell_type": "code",
      "metadata": {
        "id": "tXHFzKBaUtfi",
        "outputId": "0e0b8a33-efdc-4ba0-a2ce-28013f9b08a4",
        "colab": {
          "base_uri": "https://localhost:8080/",
          "height": 206
        }
      },
      "source": [
        "validation_set = full_data[full_data['order_id'].isin(last_orders)]\n",
        "validation_set.head()"
      ],
      "execution_count": null,
      "outputs": [
        {
          "output_type": "execute_result",
          "data": {
            "text/html": [
              "<div>\n",
              "<style scoped>\n",
              "    .dataframe tbody tr th:only-of-type {\n",
              "        vertical-align: middle;\n",
              "    }\n",
              "\n",
              "    .dataframe tbody tr th {\n",
              "        vertical-align: top;\n",
              "    }\n",
              "\n",
              "    .dataframe thead th {\n",
              "        text-align: right;\n",
              "    }\n",
              "</style>\n",
              "<table border=\"1\" class=\"dataframe\">\n",
              "  <thead>\n",
              "    <tr style=\"text-align: right;\">\n",
              "      <th></th>\n",
              "      <th>user_id</th>\n",
              "      <th>order_id</th>\n",
              "      <th>line_item_id</th>\n",
              "      <th>price</th>\n",
              "      <th>quantity</th>\n",
              "      <th>discount</th>\n",
              "      <th>product_id</th>\n",
              "      <th>master_category_id</th>\n",
              "      <th>parent_category_id</th>\n",
              "    </tr>\n",
              "  </thead>\n",
              "  <tbody>\n",
              "    <tr>\n",
              "      <th>362</th>\n",
              "      <td>3241</td>\n",
              "      <td>5457903</td>\n",
              "      <td>28180918</td>\n",
              "      <td>261.000000</td>\n",
              "      <td>2</td>\n",
              "      <td>0.00</td>\n",
              "      <td>36586</td>\n",
              "      <td>593.0</td>\n",
              "      <td>42</td>\n",
              "    </tr>\n",
              "    <tr>\n",
              "      <th>363</th>\n",
              "      <td>3241</td>\n",
              "      <td>5457903</td>\n",
              "      <td>28590941</td>\n",
              "      <td>85.000000</td>\n",
              "      <td>1</td>\n",
              "      <td>0.00</td>\n",
              "      <td>69372</td>\n",
              "      <td>34.0</td>\n",
              "      <td>20</td>\n",
              "    </tr>\n",
              "    <tr>\n",
              "      <th>364</th>\n",
              "      <td>3241</td>\n",
              "      <td>5457903</td>\n",
              "      <td>28591096</td>\n",
              "      <td>409.000000</td>\n",
              "      <td>1</td>\n",
              "      <td>0.00</td>\n",
              "      <td>4141785</td>\n",
              "      <td>116.0</td>\n",
              "      <td>112</td>\n",
              "    </tr>\n",
              "    <tr>\n",
              "      <th>365</th>\n",
              "      <td>3241</td>\n",
              "      <td>5457903</td>\n",
              "      <td>28591333</td>\n",
              "      <td>194.080002</td>\n",
              "      <td>2</td>\n",
              "      <td>0.00</td>\n",
              "      <td>5428</td>\n",
              "      <td>115.0</td>\n",
              "      <td>112</td>\n",
              "    </tr>\n",
              "    <tr>\n",
              "      <th>366</th>\n",
              "      <td>3241</td>\n",
              "      <td>5457903</td>\n",
              "      <td>28592887</td>\n",
              "      <td>60.759998</td>\n",
              "      <td>1</td>\n",
              "      <td>17.23</td>\n",
              "      <td>21446</td>\n",
              "      <td>580.0</td>\n",
              "      <td>9</td>\n",
              "    </tr>\n",
              "  </tbody>\n",
              "</table>\n",
              "</div>"
            ],
            "text/plain": [
              "     user_id  order_id  ...  master_category_id  parent_category_id\n",
              "362     3241   5457903  ...               593.0                  42\n",
              "363     3241   5457903  ...                34.0                  20\n",
              "364     3241   5457903  ...               116.0                 112\n",
              "365     3241   5457903  ...               115.0                 112\n",
              "366     3241   5457903  ...               580.0                   9\n",
              "\n",
              "[5 rows x 9 columns]"
            ]
          },
          "metadata": {
            "tags": []
          },
          "execution_count": 17
        }
      ]
    },
    {
      "cell_type": "markdown",
      "metadata": {
        "id": "ceB4rK34ACOI"
      },
      "source": [
        "# QUANTITY_NORM"
      ]
    },
    {
      "cell_type": "code",
      "metadata": {
        "id": "FuBhFFG7A4Fq",
        "outputId": "2ad46f32-9b4d-4d72-fe42-c0fe99fdc27c",
        "colab": {
          "base_uri": "https://localhost:8080/",
          "height": 238
        }
      },
      "source": [
        "quantities_df = full_data.groupby(['user_id', 'product_id'])['quantity'].sum().to_frame()\n",
        "quantities_df.reset_index(level=1, inplace=True)\n",
        "quantities_df['num_orders'] = full_data.groupby(['user_id'])['order_id'].nunique()\n",
        "quantities_df['quantity_norm'] = quantities_df['quantity'] / quantities_df['num_orders']\n",
        "quantities_df.drop(columns=['quantity', 'num_orders'], inplace=True)\n",
        "quantities_df.reset_index(level=0, inplace=True)\n",
        "quantities_df.head()"
      ],
      "execution_count": null,
      "outputs": [
        {
          "output_type": "execute_result",
          "data": {
            "text/html": [
              "<div>\n",
              "<style scoped>\n",
              "    .dataframe tbody tr th:only-of-type {\n",
              "        vertical-align: middle;\n",
              "    }\n",
              "\n",
              "    .dataframe tbody tr th {\n",
              "        vertical-align: top;\n",
              "    }\n",
              "\n",
              "    .dataframe thead th {\n",
              "        text-align: right;\n",
              "    }\n",
              "</style>\n",
              "<table border=\"1\" class=\"dataframe\">\n",
              "  <thead>\n",
              "    <tr style=\"text-align: right;\">\n",
              "      <th></th>\n",
              "      <th></th>\n",
              "      <th>quantity</th>\n",
              "    </tr>\n",
              "    <tr>\n",
              "      <th>user_id</th>\n",
              "      <th>product_id</th>\n",
              "      <th></th>\n",
              "    </tr>\n",
              "  </thead>\n",
              "  <tbody>\n",
              "    <tr>\n",
              "      <th rowspan=\"5\" valign=\"top\">51</th>\n",
              "      <th>0</th>\n",
              "      <td>9</td>\n",
              "    </tr>\n",
              "    <tr>\n",
              "      <th>159</th>\n",
              "      <td>1</td>\n",
              "    </tr>\n",
              "    <tr>\n",
              "      <th>397</th>\n",
              "      <td>2</td>\n",
              "    </tr>\n",
              "    <tr>\n",
              "      <th>407</th>\n",
              "      <td>16</td>\n",
              "    </tr>\n",
              "    <tr>\n",
              "      <th>456</th>\n",
              "      <td>20</td>\n",
              "    </tr>\n",
              "  </tbody>\n",
              "</table>\n",
              "</div>"
            ],
            "text/plain": [
              "                    quantity\n",
              "user_id product_id          \n",
              "51      0                  9\n",
              "        159                1\n",
              "        397                2\n",
              "        407               16\n",
              "        456               20"
            ]
          },
          "metadata": {
            "tags": []
          },
          "execution_count": 12
        }
      ]
    },
    {
      "cell_type": "code",
      "metadata": {
        "id": "qRSjkjY7GjNT"
      },
      "source": [
        "quantities_df.to_csv(f\"{DATADIR}/quantities_norm.csv\", index=False)"
      ],
      "execution_count": null,
      "outputs": []
    }
  ]
}